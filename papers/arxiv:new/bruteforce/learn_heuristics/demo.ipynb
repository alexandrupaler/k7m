{
 "cells": [
  {
   "cell_type": "code",
   "execution_count": 1,
   "metadata": {
    "ExecuteTime": {
     "end_time": "2020-04-28T10:59:50.817769Z",
     "start_time": "2020-04-28T10:59:50.322177Z"
    }
   },
   "outputs": [
    {
     "name": "stdout",
     "output_type": "stream",
     "text": [
      "Numpy version: 1.18.1\n",
      "Pandas version: 1.0.3\n",
      "Sklearn version: 0.22.1\n"
     ]
    }
   ],
   "source": [
    "%matplotlib inline\n",
    "import numpy as np\n",
    "import pandas as pd\n",
    "import matplotlib.pyplot as plt\n",
    "import os\n",
    "\n",
    "from sklearn.metrics import mean_squared_error, mean_absolute_error\n",
    "from sklearn.preprocessing import MinMaxScaler\n",
    "from sklearn.pipeline import Pipeline\n",
    "\n",
    "import sklearn\n",
    "from sklearn.neural_network import MLPRegressor\n",
    "from sklearn.neighbors import KNeighborsRegressor\n",
    "from sklearn.model_selection import train_test_split, cross_val_score, RandomizedSearchCV, GridSearchCV, cross_val_score\n",
    "from sklearn.ensemble import RandomForestRegressor, AdaBoostRegressor\n",
    "\n",
    "import multiprocessing\n",
    "\n",
    "print(f'Numpy version: {np.__version__}')\n",
    "print(f'Pandas version: {pd.__version__}')\n",
    "print(f'Sklearn version: {sklearn.__version__}')"
   ]
  },
  {
   "cell_type": "markdown",
   "metadata": {},
   "source": [
    "# Setup"
   ]
  },
  {
   "cell_type": "code",
   "execution_count": 2,
   "metadata": {
    "ExecuteTime": {
     "end_time": "2020-04-28T10:59:50.821625Z",
     "start_time": "2020-04-28T10:59:50.818837Z"
    }
   },
   "outputs": [],
   "source": [
    "# base_dir = r'd:\\work\\cercetare\\2020\\quantum_paler\\git\\k7m\\bruteforce'\n",
    "base_dir = r'/home/local/CORP/lsasu/work/school/quantum_paler/git_k7m/k7m/bruteforce'"
   ]
  },
  {
   "cell_type": "code",
   "execution_count": 3,
   "metadata": {
    "ExecuteTime": {
     "end_time": "2020-04-28T10:59:50.826488Z",
     "start_time": "2020-04-28T10:59:50.823008Z"
    }
   },
   "outputs": [],
   "source": [
    "n_cores = multiprocessing.cpu_count()"
   ]
  },
  {
   "cell_type": "markdown",
   "metadata": {},
   "source": [
    "# Read heuristic's results"
   ]
  },
  {
   "cell_type": "code",
   "execution_count": 4,
   "metadata": {
    "ExecuteTime": {
     "end_time": "2020-04-28T10:59:50.831038Z",
     "start_time": "2020-04-28T10:59:50.827528Z"
    }
   },
   "outputs": [],
   "source": [
    "columns = ['n/a','|','optimal_depth','res_depth','total_time','init_time','nr_t1','nr_t2','|','max_depth','max_children','att_b','att_c','div_dist','cx','depth','trail']"
   ]
  },
  {
   "cell_type": "code",
   "execution_count": 5,
   "metadata": {
    "ExecuteTime": {
     "end_time": "2020-04-28T10:59:50.838288Z",
     "start_time": "2020-04-28T10:59:50.833519Z"
    }
   },
   "outputs": [],
   "source": [
    "heuristic_hyperparams = ['max_depth', 'max_children', 'att_b', 'att_c', 'div_dist', 'cx']"
   ]
  },
  {
   "cell_type": "code",
   "execution_count": 6,
   "metadata": {
    "ExecuteTime": {
     "end_time": "2020-04-28T10:59:50.845552Z",
     "start_time": "2020-04-28T10:59:50.840658Z"
    }
   },
   "outputs": [],
   "source": [
    "assert set(heuristic_hyperparams).issubset(set(columns))"
   ]
  },
  {
   "cell_type": "code",
   "execution_count": 7,
   "metadata": {
    "ExecuteTime": {
     "end_time": "2020-04-28T10:59:50.851447Z",
     "start_time": "2020-04-28T10:59:50.847718Z"
    }
   },
   "outputs": [],
   "source": [
    "files = [file for file in os.listdir(base_dir) if 'training_no_analysis' in file and 'example' not in file]\n",
    "files = [os.path.join(base_dir, file) for file in files]"
   ]
  },
  {
   "cell_type": "code",
   "execution_count": 8,
   "metadata": {
    "ExecuteTime": {
     "end_time": "2020-04-28T10:59:50.860097Z",
     "start_time": "2020-04-28T10:59:50.855066Z"
    }
   },
   "outputs": [],
   "source": [
    "def read_file(path, columns=columns):\n",
    "    df = pd.read_csv(path, sep=',', skiprows=1, header=None)\n",
    "    df.columns = columns\n",
    "    df.drop(columns=['|', 'n/a'], axis=1, inplace=True)\n",
    "    df['ratio_res_opt'] = df.res_depth / df.optimal_depth\n",
    "    for column_name in df.columns:\n",
    "        if df[column_name].dtype == 'int64':\n",
    "            df[column_name] = df[column_name].astype(np.int32)\n",
    "    return df"
   ]
  },
  {
   "cell_type": "code",
   "execution_count": 9,
   "metadata": {
    "ExecuteTime": {
     "end_time": "2020-04-28T10:59:51.553565Z",
     "start_time": "2020-04-28T10:59:50.862996Z"
    }
   },
   "outputs": [],
   "source": [
    "dfs = [read_file(file) for file in files]"
   ]
  },
  {
   "cell_type": "code",
   "execution_count": 10,
   "metadata": {
    "ExecuteTime": {
     "end_time": "2020-04-28T10:59:51.591651Z",
     "start_time": "2020-04-28T10:59:51.554656Z"
    }
   },
   "outputs": [],
   "source": [
    "df_experiments = pd.concat(dfs, axis=0, ignore_index=True)\n",
    "del dfs"
   ]
  },
  {
   "cell_type": "code",
   "execution_count": 11,
   "metadata": {
    "ExecuteTime": {
     "end_time": "2020-04-28T10:59:51.600290Z",
     "start_time": "2020-04-28T10:59:51.593860Z"
    }
   },
   "outputs": [
    {
     "data": {
      "text/plain": [
       "(704079, 15)"
      ]
     },
     "execution_count": 11,
     "metadata": {},
     "output_type": "execute_result"
    }
   ],
   "source": [
    "df_experiments.shape"
   ]
  },
  {
   "cell_type": "code",
   "execution_count": 12,
   "metadata": {
    "ExecuteTime": {
     "end_time": "2020-04-28T10:59:51.617972Z",
     "start_time": "2020-04-28T10:59:51.602706Z"
    }
   },
   "outputs": [
    {
     "data": {
      "text/html": [
       "<div>\n",
       "<style scoped>\n",
       "    .dataframe tbody tr th:only-of-type {\n",
       "        vertical-align: middle;\n",
       "    }\n",
       "\n",
       "    .dataframe tbody tr th {\n",
       "        vertical-align: top;\n",
       "    }\n",
       "\n",
       "    .dataframe thead th {\n",
       "        text-align: right;\n",
       "    }\n",
       "</style>\n",
       "<table border=\"1\" class=\"dataframe\">\n",
       "  <thead>\n",
       "    <tr style=\"text-align: right;\">\n",
       "      <th></th>\n",
       "      <th>optimal_depth</th>\n",
       "      <th>res_depth</th>\n",
       "      <th>total_time</th>\n",
       "      <th>init_time</th>\n",
       "      <th>nr_t1</th>\n",
       "      <th>nr_t2</th>\n",
       "      <th>max_depth</th>\n",
       "      <th>max_children</th>\n",
       "      <th>att_b</th>\n",
       "      <th>att_c</th>\n",
       "      <th>div_dist</th>\n",
       "      <th>cx</th>\n",
       "      <th>depth</th>\n",
       "      <th>trail</th>\n",
       "      <th>ratio_res_opt</th>\n",
       "    </tr>\n",
       "  </thead>\n",
       "  <tbody>\n",
       "    <tr>\n",
       "      <th>0</th>\n",
       "      <td>5</td>\n",
       "      <td>29</td>\n",
       "      <td>0.042961</td>\n",
       "      <td>0.001817</td>\n",
       "      <td>14</td>\n",
       "      <td>15</td>\n",
       "      <td>13</td>\n",
       "      <td>1</td>\n",
       "      <td>-10</td>\n",
       "      <td>-10</td>\n",
       "      <td>2</td>\n",
       "      <td>2</td>\n",
       "      <td>5</td>\n",
       "      <td>0</td>\n",
       "      <td>5.800000</td>\n",
       "    </tr>\n",
       "    <tr>\n",
       "      <th>1</th>\n",
       "      <td>10</td>\n",
       "      <td>51</td>\n",
       "      <td>0.077925</td>\n",
       "      <td>0.002484</td>\n",
       "      <td>14</td>\n",
       "      <td>14</td>\n",
       "      <td>13</td>\n",
       "      <td>1</td>\n",
       "      <td>-10</td>\n",
       "      <td>-10</td>\n",
       "      <td>2</td>\n",
       "      <td>2</td>\n",
       "      <td>10</td>\n",
       "      <td>0</td>\n",
       "      <td>5.100000</td>\n",
       "    </tr>\n",
       "    <tr>\n",
       "      <th>2</th>\n",
       "      <td>15</td>\n",
       "      <td>65</td>\n",
       "      <td>0.109975</td>\n",
       "      <td>0.003178</td>\n",
       "      <td>14</td>\n",
       "      <td>10</td>\n",
       "      <td>13</td>\n",
       "      <td>1</td>\n",
       "      <td>-10</td>\n",
       "      <td>-10</td>\n",
       "      <td>2</td>\n",
       "      <td>2</td>\n",
       "      <td>15</td>\n",
       "      <td>0</td>\n",
       "      <td>4.333333</td>\n",
       "    </tr>\n",
       "    <tr>\n",
       "      <th>3</th>\n",
       "      <td>20</td>\n",
       "      <td>101</td>\n",
       "      <td>0.152238</td>\n",
       "      <td>0.004190</td>\n",
       "      <td>14</td>\n",
       "      <td>12</td>\n",
       "      <td>13</td>\n",
       "      <td>1</td>\n",
       "      <td>-10</td>\n",
       "      <td>-10</td>\n",
       "      <td>2</td>\n",
       "      <td>2</td>\n",
       "      <td>20</td>\n",
       "      <td>0</td>\n",
       "      <td>5.050000</td>\n",
       "    </tr>\n",
       "    <tr>\n",
       "      <th>4</th>\n",
       "      <td>25</td>\n",
       "      <td>127</td>\n",
       "      <td>0.248168</td>\n",
       "      <td>0.004838</td>\n",
       "      <td>13</td>\n",
       "      <td>15</td>\n",
       "      <td>13</td>\n",
       "      <td>1</td>\n",
       "      <td>-10</td>\n",
       "      <td>-10</td>\n",
       "      <td>2</td>\n",
       "      <td>2</td>\n",
       "      <td>25</td>\n",
       "      <td>0</td>\n",
       "      <td>5.080000</td>\n",
       "    </tr>\n",
       "  </tbody>\n",
       "</table>\n",
       "</div>"
      ],
      "text/plain": [
       "   optimal_depth  res_depth  total_time  init_time  nr_t1  nr_t2  max_depth  \\\n",
       "0              5         29    0.042961   0.001817     14     15         13   \n",
       "1             10         51    0.077925   0.002484     14     14         13   \n",
       "2             15         65    0.109975   0.003178     14     10         13   \n",
       "3             20        101    0.152238   0.004190     14     12         13   \n",
       "4             25        127    0.248168   0.004838     13     15         13   \n",
       "\n",
       "   max_children  att_b  att_c  div_dist  cx  depth  trail  ratio_res_opt  \n",
       "0             1    -10    -10         2   2      5      0       5.800000  \n",
       "1             1    -10    -10         2   2     10      0       5.100000  \n",
       "2             1    -10    -10         2   2     15      0       4.333333  \n",
       "3             1    -10    -10         2   2     20      0       5.050000  \n",
       "4             1    -10    -10         2   2     25      0       5.080000  "
      ]
     },
     "execution_count": 12,
     "metadata": {},
     "output_type": "execute_result"
    }
   ],
   "source": [
    "df_experiments.head()"
   ]
  },
  {
   "cell_type": "code",
   "execution_count": null,
   "metadata": {
    "ExecuteTime": {
     "start_time": "2020-04-28T16:55:55.807Z"
    }
   },
   "outputs": [],
   "source": [
    "df_experiments.loc[:1000, :]"
   ]
  },
  {
   "cell_type": "markdown",
   "metadata": {},
   "source": [
    "# Read circuits"
   ]
  },
  {
   "cell_type": "code",
   "execution_count": 13,
   "metadata": {
    "ExecuteTime": {
     "end_time": "2020-04-28T10:59:51.622371Z",
     "start_time": "2020-04-28T10:59:51.619383Z"
    }
   },
   "outputs": [],
   "source": [
    "circuit_features = ['max_page_rank',  'nr_conn_comp',  'edges',  'nodes',  'efficiency',  'smetric']"
   ]
  },
  {
   "cell_type": "code",
   "execution_count": 14,
   "metadata": {
    "ExecuteTime": {
     "end_time": "2020-04-28T10:59:51.629824Z",
     "start_time": "2020-04-28T10:59:51.623602Z"
    }
   },
   "outputs": [],
   "source": [
    "circuits_path = os.path.join(base_dir, 'circuits_analysis.csv')\n",
    "df_circuits = pd.read_csv(circuits_path)\n",
    "assert set(circuit_features).issubset(set(df_circuits.columns))"
   ]
  },
  {
   "cell_type": "code",
   "execution_count": 15,
   "metadata": {
    "ExecuteTime": {
     "end_time": "2020-04-28T10:59:51.634766Z",
     "start_time": "2020-04-28T10:59:51.630950Z"
    }
   },
   "outputs": [
    {
     "data": {
      "text/plain": [
       "(90, 8)"
      ]
     },
     "execution_count": 15,
     "metadata": {},
     "output_type": "execute_result"
    }
   ],
   "source": [
    "df_circuits.shape"
   ]
  },
  {
   "cell_type": "code",
   "execution_count": 16,
   "metadata": {
    "ExecuteTime": {
     "end_time": "2020-04-28T10:59:51.644339Z",
     "start_time": "2020-04-28T10:59:51.635854Z"
    }
   },
   "outputs": [
    {
     "data": {
      "text/html": [
       "<div>\n",
       "<style scoped>\n",
       "    .dataframe tbody tr th:only-of-type {\n",
       "        vertical-align: middle;\n",
       "    }\n",
       "\n",
       "    .dataframe tbody tr th {\n",
       "        vertical-align: top;\n",
       "    }\n",
       "\n",
       "    .dataframe thead th {\n",
       "        text-align: right;\n",
       "    }\n",
       "</style>\n",
       "<table border=\"1\" class=\"dataframe\">\n",
       "  <thead>\n",
       "    <tr style=\"text-align: right;\">\n",
       "      <th></th>\n",
       "      <th>depth</th>\n",
       "      <th>trail</th>\n",
       "      <th>max_page_rank</th>\n",
       "      <th>nr_conn_comp</th>\n",
       "      <th>edges</th>\n",
       "      <th>nodes</th>\n",
       "      <th>efficiency</th>\n",
       "      <th>smetric</th>\n",
       "    </tr>\n",
       "  </thead>\n",
       "  <tbody>\n",
       "    <tr>\n",
       "      <th>0</th>\n",
       "      <td>5</td>\n",
       "      <td>0</td>\n",
       "      <td>0.029286</td>\n",
       "      <td>7</td>\n",
       "      <td>68</td>\n",
       "      <td>69</td>\n",
       "      <td>0.081875</td>\n",
       "      <td>470.0</td>\n",
       "    </tr>\n",
       "    <tr>\n",
       "      <th>1</th>\n",
       "      <td>10</td>\n",
       "      <td>0</td>\n",
       "      <td>0.017183</td>\n",
       "      <td>2</td>\n",
       "      <td>118</td>\n",
       "      <td>105</td>\n",
       "      <td>0.143722</td>\n",
       "      <td>962.0</td>\n",
       "    </tr>\n",
       "    <tr>\n",
       "      <th>2</th>\n",
       "      <td>15</td>\n",
       "      <td>0</td>\n",
       "      <td>0.012668</td>\n",
       "      <td>1</td>\n",
       "      <td>169</td>\n",
       "      <td>141</td>\n",
       "      <td>0.141683</td>\n",
       "      <td>1490.0</td>\n",
       "    </tr>\n",
       "    <tr>\n",
       "      <th>3</th>\n",
       "      <td>20</td>\n",
       "      <td>0</td>\n",
       "      <td>0.010188</td>\n",
       "      <td>1</td>\n",
       "      <td>219</td>\n",
       "      <td>177</td>\n",
       "      <td>0.141731</td>\n",
       "      <td>1938.0</td>\n",
       "    </tr>\n",
       "    <tr>\n",
       "      <th>4</th>\n",
       "      <td>25</td>\n",
       "      <td>0</td>\n",
       "      <td>0.008732</td>\n",
       "      <td>1</td>\n",
       "      <td>268</td>\n",
       "      <td>212</td>\n",
       "      <td>0.126711</td>\n",
       "      <td>2398.0</td>\n",
       "    </tr>\n",
       "  </tbody>\n",
       "</table>\n",
       "</div>"
      ],
      "text/plain": [
       "   depth  trail  max_page_rank  nr_conn_comp  edges  nodes  efficiency  \\\n",
       "0      5      0       0.029286             7     68     69    0.081875   \n",
       "1     10      0       0.017183             2    118    105    0.143722   \n",
       "2     15      0       0.012668             1    169    141    0.141683   \n",
       "3     20      0       0.010188             1    219    177    0.141731   \n",
       "4     25      0       0.008732             1    268    212    0.126711   \n",
       "\n",
       "   smetric  \n",
       "0    470.0  \n",
       "1    962.0  \n",
       "2   1490.0  \n",
       "3   1938.0  \n",
       "4   2398.0  "
      ]
     },
     "execution_count": 16,
     "metadata": {},
     "output_type": "execute_result"
    }
   ],
   "source": [
    "df_circuits.head()"
   ]
  },
  {
   "cell_type": "code",
   "execution_count": 17,
   "metadata": {
    "ExecuteTime": {
     "end_time": "2020-04-28T10:59:51.814302Z",
     "start_time": "2020-04-28T10:59:51.645421Z"
    }
   },
   "outputs": [],
   "source": [
    "df_inner_join = pd.merge(df_circuits, df_experiments, how='inner', on=['depth', 'trail'])"
   ]
  },
  {
   "cell_type": "markdown",
   "metadata": {},
   "source": [
    "# Plot min ratio_res_opt per depth+trail group"
   ]
  },
  {
   "cell_type": "markdown",
   "metadata": {},
   "source": [
    "## Raw plot"
   ]
  },
  {
   "cell_type": "code",
   "execution_count": 23,
   "metadata": {
    "ExecuteTime": {
     "end_time": "2020-04-28T17:13:19.301311Z",
     "start_time": "2020-04-28T17:13:18.708927Z"
    },
    "scrolled": false
   },
   "outputs": [
    {
     "data": {
      "text/plain": [
       "Text(0, 0.5, 'Ratio between results and true optimal value')"
      ]
     },
     "execution_count": 23,
     "metadata": {},
     "output_type": "execute_result"
    },
    {
     "data": {
      "image/png": "[encoded data removed]",
      "text/plain": [
       "<Figure size 864x648 with 1 Axes>"
      ]
     },
     "metadata": {
      "needs_background": "light"
     },
     "output_type": "display_data"
    }
   ],
   "source": [
    "group_depth_trail = df_inner_join.groupby(by=['depth', 'trail'])['ratio_res_opt'].min()\n",
    "axes = group_depth_trail.plot(kind='bar', figsize=(12, 9))\n",
    "axes.set_ylabel('Ratio between results and true optimal value')"
   ]
  },
  {
   "cell_type": "markdown",
   "metadata": {},
   "source": [
    "## Histogram"
   ]
  },
  {
   "cell_type": "code",
   "execution_count": 19,
   "metadata": {
    "ExecuteTime": {
     "end_time": "2020-04-28T10:59:52.538848Z",
     "start_time": "2020-04-28T10:59:52.402664Z"
    }
   },
   "outputs": [
    {
     "data": {
      "text/plain": [
       "Text(0.5, 0, 'Ratio between results and true optimal value')"
      ]
     },
     "execution_count": 19,
     "metadata": {},
     "output_type": "execute_result"
    },
    {
     "data": {
      "image/png": "[encoded data removed]",
      "text/plain": [
       "<Figure size 864x648 with 1 Axes>"
      ]
     },
     "metadata": {
      "needs_background": "light"
     },
     "output_type": "display_data"
    }
   ],
   "source": [
    "ax_group_histogram = group_depth_trail.plot(kind='hist', figsize=(12, 9), bins=20)\n",
    "ax_group_histogram.set_xlabel('Ratio between results and true optimal value')"
   ]
  },
  {
   "cell_type": "markdown",
   "metadata": {},
   "source": [
    "## Order cases by ratio_res_opt"
   ]
  },
  {
   "cell_type": "code",
   "execution_count": 20,
   "metadata": {
    "ExecuteTime": {
     "end_time": "2020-04-28T10:59:52.692068Z",
     "start_time": "2020-04-28T10:59:52.541398Z"
    }
   },
   "outputs": [
    {
     "data": {
      "text/plain": [
       "Text(0, 0.5, 'Ratio between results and true optimal value')"
      ]
     },
     "execution_count": 20,
     "metadata": {},
     "output_type": "execute_result"
    },
    {
     "data": {
      "image/png": "[encoded data removed]",
      "text/plain": [
       "<Figure size 864x648 with 1 Axes>"
      ]
     },
     "metadata": {
      "needs_background": "light"
     },
     "output_type": "display_data"
    }
   ],
   "source": [
    "axes_sorted = group_depth_trail.sort_values().plot(figsize=(12, 9))\n",
    "axes_sorted.set_ylabel('Ratio between results and true optimal value')"
   ]
  },
  {
   "cell_type": "code",
   "execution_count": 21,
   "metadata": {
    "ExecuteTime": {
     "end_time": "2020-04-28T10:59:52.698244Z",
     "start_time": "2020-04-28T10:59:52.693284Z"
    }
   },
   "outputs": [
    {
     "data": {
      "text/plain": [
       "depth  trail\n",
       "5      0        1.000000\n",
       "       2        1.000000\n",
       "       3        1.000000\n",
       "       5        1.000000\n",
       "       8        1.000000\n",
       "       9        1.000000\n",
       "40     4        1.000000\n",
       "45     3        1.222222\n",
       "       7        1.155556\n",
       "Name: ratio_res_opt, dtype: float64"
      ]
     },
     "execution_count": 21,
     "metadata": {},
     "output_type": "execute_result"
    }
   ],
   "source": [
    "# which cases got ratio_res_opt up to a threshold?\n",
    "\n",
    "threshold_ratio_res_opt = 1.3\n",
    "series_at_most_threshold = group_depth_trail[group_depth_trail <= threshold_ratio_res_opt]\n",
    "series_at_most_threshold"
   ]
  },
  {
   "cell_type": "code",
   "execution_count": 22,
   "metadata": {
    "ExecuteTime": {
     "end_time": "2020-04-28T10:59:52.703909Z",
     "start_time": "2020-04-28T10:59:52.699321Z"
    }
   },
   "outputs": [
    {
     "name": "stdout",
     "output_type": "stream",
     "text": [
      "How many cases with ratio <= 1.3: 9/90\n"
     ]
    }
   ],
   "source": [
    "print(f'How many cases with ratio <= {threshold_ratio_res_opt}: {len(series_at_most_threshold)}/{len(group_depth_trail)}')"
   ]
  },
  {
   "cell_type": "markdown",
   "metadata": {},
   "source": [
    "# Data input/output selection"
   ]
  },
  {
   "cell_type": "code",
   "execution_count": 23,
   "metadata": {
    "ExecuteTime": {
     "end_time": "2020-04-28T10:59:52.715052Z",
     "start_time": "2020-04-28T10:59:52.710851Z"
    }
   },
   "outputs": [],
   "source": [
    "output_features = ['optimal_depth', 'res_depth', 'total_time',\n",
    "       'init_time', 'nr_t1', 'nr_t2', 'max_depth', 'max_children', 'att_b',\n",
    "       'att_c', 'div_dist', 'cx', 'ratio_res_opt']"
   ]
  },
  {
   "cell_type": "code",
   "execution_count": 24,
   "metadata": {
    "ExecuteTime": {
     "end_time": "2020-04-28T10:59:52.722270Z",
     "start_time": "2020-04-28T10:59:52.718923Z"
    }
   },
   "outputs": [],
   "source": [
    "heuristic_hp_names = ['max_depth',  'max_children',  'att_b',  'att_c',  'div_dist',  'cx']\n",
    "to_predict = ['ratio_res_opt']"
   ]
  },
  {
   "cell_type": "markdown",
   "metadata": {},
   "source": [
    "# Learn to predict heuristic's output for: (circuit + HPs)"
   ]
  },
  {
   "cell_type": "markdown",
   "metadata": {},
   "source": [
    "Given a circuit described by circuit_features, and specific values for heurostoc HPs, which is the expected ratio_res_opt?"
   ]
  },
  {
   "cell_type": "code",
   "execution_count": 25,
   "metadata": {
    "ExecuteTime": {
     "end_time": "2020-04-28T10:59:52.730626Z",
     "start_time": "2020-04-28T10:59:52.724532Z"
    }
   },
   "outputs": [],
   "source": [
    "y = df_inner_join[to_predict].values.ravel()"
   ]
  },
  {
   "cell_type": "code",
   "execution_count": 26,
   "metadata": {
    "ExecuteTime": {
     "end_time": "2020-04-28T10:59:52.736581Z",
     "start_time": "2020-04-28T10:59:52.732505Z"
    }
   },
   "outputs": [
    {
     "data": {
      "text/plain": [
       "['max_page_rank',\n",
       " 'nr_conn_comp',\n",
       " 'edges',\n",
       " 'nodes',\n",
       " 'efficiency',\n",
       " 'smetric',\n",
       " 'max_depth',\n",
       " 'max_children',\n",
       " 'att_b',\n",
       " 'att_c',\n",
       " 'div_dist',\n",
       " 'cx']"
      ]
     },
     "execution_count": 26,
     "metadata": {},
     "output_type": "execute_result"
    }
   ],
   "source": [
    "for_input = circuit_features + heuristic_hp_names\n",
    "for_input"
   ]
  },
  {
   "cell_type": "code",
   "execution_count": 27,
   "metadata": {
    "ExecuteTime": {
     "end_time": "2020-04-28T10:59:52.761521Z",
     "start_time": "2020-04-28T10:59:52.738606Z"
    }
   },
   "outputs": [
    {
     "data": {
      "text/plain": [
       "(704079, 12)"
      ]
     },
     "execution_count": 27,
     "metadata": {},
     "output_type": "execute_result"
    }
   ],
   "source": [
    "X = df_inner_join[for_input].values\n",
    "X.shape"
   ]
  },
  {
   "cell_type": "code",
   "execution_count": 28,
   "metadata": {
    "ExecuteTime": {
     "end_time": "2020-04-28T10:59:52.785671Z",
     "start_time": "2020-04-28T10:59:52.763966Z"
    }
   },
   "outputs": [
    {
     "data": {
      "text/plain": [
       "(array([ 4.71768034e-03,  1.00000000e+00,  6.80000000e+01,  6.90000000e+01,\n",
       "         7.15676126e-02,  4.52000000e+02,  1.00000000e+00,  1.00000000e+00,\n",
       "        -1.00000000e+01, -1.00000000e+01,  2.00000000e+00,  2.00000000e+00]),\n",
       " array([3.07452280e-02, 7.00000000e+00, 4.71000000e+02, 3.57000000e+02,\n",
       "        1.76789985e-01, 4.49200000e+03, 1.70000000e+01, 1.70000000e+01,\n",
       "        1.00000000e+01, 1.00000000e+01, 1.00000000e+01, 1.00000000e+01]))"
      ]
     },
     "execution_count": 28,
     "metadata": {},
     "output_type": "execute_result"
    }
   ],
   "source": [
    "X.min(axis=0), X.max(axis=0)\n",
    "\n",
    "# scaling must be done for metric and gradient-based models"
   ]
  },
  {
   "cell_type": "code",
   "execution_count": 29,
   "metadata": {
    "ExecuteTime": {
     "end_time": "2020-04-28T10:59:52.790092Z",
     "start_time": "2020-04-28T10:59:52.787429Z"
    }
   },
   "outputs": [],
   "source": [
    "df_onerun=None"
   ]
  },
  {
   "cell_type": "code",
   "execution_count": 30,
   "metadata": {
    "ExecuteTime": {
     "end_time": "2020-04-28T10:59:52.797220Z",
     "start_time": "2020-04-28T10:59:52.791576Z"
    }
   },
   "outputs": [],
   "source": [
    "def run_model_hardcoded(pipeline, X_train, y_train, X_test, y_test, df):\n",
    "    pipeline.fit(X_train, y_train)\n",
    "    y_hat_test = pipeline.predict(X_test)\n",
    "    mse = mean_squared_error(y_test, y_hat_test)\n",
    "    mae = mean_absolute_error(y_test, y_hat_test)\n",
    "    if df is None:\n",
    "        df = pd.DataFrame(columns = ['model', 'mse', 'mae', 'model_details'])\n",
    "    model_name = type(pipeline.steps[-1][-1]).__name__\n",
    "    row = {'model': model_name, 'mse':mse, 'mae':mae, 'model_details':pipeline.steps[-1][-1]}\n",
    "    df = df.append(row, ignore_index=True)\n",
    "    return df"
   ]
  },
  {
   "cell_type": "code",
   "execution_count": 31,
   "metadata": {
    "ExecuteTime": {
     "end_time": "2020-04-28T10:59:52.802730Z",
     "start_time": "2020-04-28T10:59:52.798603Z"
    }
   },
   "outputs": [],
   "source": [
    "df_CV_simple = None"
   ]
  },
  {
   "cell_type": "code",
   "execution_count": 32,
   "metadata": {
    "ExecuteTime": {
     "end_time": "2020-04-28T10:59:52.809265Z",
     "start_time": "2020-04-28T10:59:52.804086Z"
    }
   },
   "outputs": [],
   "source": [
    "def run_simple_model_CV(pipeline, X, y, scoring='neg_mean_squared_error', cv=5, n_jobs=n_cores-1, verbose=10, df=None):\n",
    "    scores = cross_val_score(pipeline, X, y, cv=cv, n_jobs=n_jobs, verbose=verbose, scoring=scoring)\n",
    "    if df is None:\n",
    "        df = pd.DataFrame(columns = ['model', scoring, 'model_details', 'cv'])\n",
    "    model_name = type(pipeline.steps[-1][-1]).__name__\n",
    "    row = {'model': model_name, scoring:np.mean(-scores), 'model_details':pipeline.steps[-1][-1], 'cv':cv}\n",
    "    df = df.append(row, ignore_index=True)\n",
    "    return df"
   ]
  },
  {
   "cell_type": "code",
   "execution_count": 33,
   "metadata": {
    "ExecuteTime": {
     "end_time": "2020-04-28T10:59:52.813039Z",
     "start_time": "2020-04-28T10:59:52.810690Z"
    }
   },
   "outputs": [],
   "source": [
    "df_gridsearch_onesplit = None"
   ]
  },
  {
   "cell_type": "code",
   "execution_count": 69,
   "metadata": {
    "ExecuteTime": {
     "end_time": "2020-04-28T11:28:24.201814Z",
     "start_time": "2020-04-28T11:28:24.189689Z"
    }
   },
   "outputs": [],
   "source": [
    "def run_gridsearch_onesplit(pipeline, X_train, y_train, X_test, y_test, \n",
    "                            param_grid, scoring='neg_mean_squared_error', n_jobs=n_cores-1, \n",
    "                            cv=5, verbose=10, df=None):\n",
    "    clf = GridSearchCV(pipeline, param_grid, scoring=scoring, n_jobs=n_jobs, cv=cv, verbose=verbose)\n",
    "    clf.fit(X_train, y_train)\n",
    "    if df is None:\n",
    "        df = pd.DataFrame(columns = ['model', 'mse', 'mae', scoring, 'best_params', 'model_details', 'cv'])\n",
    "    y_hat_gs = clf.predict(X_test)\n",
    "    model_name = type(pipeline.steps[-1][-1]).__name__\n",
    "    mse = mean_squared_error(y_test, y_hat_gs)\n",
    "    mae = mean_absolute_error(y_test, y_hat_gs)\n",
    "    row = {'model': model_name, \n",
    "           'mse': mse, \n",
    "           'mae': mae,\n",
    "           scoring: scoring,\n",
    "           'best_params': clf.best_params_,\n",
    "           'model_details':pipeline.steps[-1][-1], \n",
    "           'cv':cv}\n",
    "    df = df.append(row, ignore_index=True)\n",
    "    return df"
   ]
  },
  {
   "cell_type": "code",
   "execution_count": 35,
   "metadata": {
    "ExecuteTime": {
     "end_time": "2020-04-28T10:59:52.826174Z",
     "start_time": "2020-04-28T10:59:52.821729Z"
    }
   },
   "outputs": [],
   "source": [
    "df_crossvalid_hpsearch = None"
   ]
  },
  {
   "cell_type": "code",
   "execution_count": 71,
   "metadata": {
    "ExecuteTime": {
     "end_time": "2020-04-28T11:43:26.199101Z",
     "start_time": "2020-04-28T11:43:26.186929Z"
    }
   },
   "outputs": [],
   "source": [
    "def run_crossvalid_hpsearch(X, y, pipeline, param_grid, scoring='neg_mean_squared_error', cv1=5, cv2=5, n_jobs=n_cores-1, df=None):\n",
    "    scores_cv_gs = cross_val_score(GridSearchCV(estimator = pipeline, param_grid=param_grid, \n",
    "                                       scoring='neg_mean_squared_error', cv=k), \n",
    "                                       X, y, cv=k, verbose=10, n_jobs=n_cores-1)\n",
    "    if df is None:\n",
    "        df = pd.DataFrame(columns = ['model', 'mean_score', scoring, 'model_details', 'cv1', 'cv2'])\n",
    "    model_name = type(pipeline.steps[-1][-1]).__name__\n",
    "    mean_score = np.mean(-scores_cv_gs)\n",
    "    row = {'model': model_name, \n",
    "           'mean_score': mean_score, \n",
    "           scoring: scoring,\n",
    "           'cv1': cv1,\n",
    "           'cv2': cv2,\n",
    "           'model_details':pipeline.steps[-1][-1]\n",
    "          }\n",
    "    df = df.append(row, ignore_index=True)\n",
    "    return df"
   ]
  },
  {
   "cell_type": "code",
   "execution_count": 37,
   "metadata": {
    "ExecuteTime": {
     "end_time": "2020-04-28T10:59:52.960304Z",
     "start_time": "2020-04-28T10:59:52.835247Z"
    }
   },
   "outputs": [],
   "source": [
    "X_train, X_test, y_train, y_test = train_test_split(X, y, test_size=1/3, random_state=100)"
   ]
  },
  {
   "cell_type": "code",
   "execution_count": 38,
   "metadata": {
    "ExecuteTime": {
     "end_time": "2020-04-28T10:59:52.963181Z",
     "start_time": "2020-04-28T10:59:52.961404Z"
    }
   },
   "outputs": [],
   "source": [
    "k = 5"
   ]
  },
  {
   "cell_type": "markdown",
   "metadata": {},
   "source": [
    "## Model: MLP"
   ]
  },
  {
   "cell_type": "code",
   "execution_count": 39,
   "metadata": {
    "ExecuteTime": {
     "end_time": "2020-04-28T10:59:52.966633Z",
     "start_time": "2020-04-28T10:59:52.964044Z"
    }
   },
   "outputs": [],
   "source": [
    "pipeline_mlp = Pipeline([('scaler', MinMaxScaler()), ('mlp', MLPRegressor(hidden_layer_sizes=20, activation='relu', max_iter=2000, random_state=100))], verbose=1)"
   ]
  },
  {
   "cell_type": "markdown",
   "metadata": {},
   "source": [
    "### One train/test split, hardcoded HPs for MLP"
   ]
  },
  {
   "cell_type": "code",
   "execution_count": 40,
   "metadata": {
    "ExecuteTime": {
     "end_time": "2020-04-28T11:00:30.911593Z",
     "start_time": "2020-04-28T10:59:52.967528Z"
    }
   },
   "outputs": [
    {
     "name": "stdout",
     "output_type": "stream",
     "text": [
      "[Pipeline] ............ (step 1 of 2) Processing scaler, total=   0.0s\n",
      "[Pipeline] ............... (step 2 of 2) Processing mlp, total=  37.8s\n"
     ]
    }
   ],
   "source": [
    "df_onerun = run_model_hardcoded(pipeline_mlp, X_train, y_train, X_test, y_test, df_onerun)"
   ]
  },
  {
   "cell_type": "code",
   "execution_count": 41,
   "metadata": {
    "ExecuteTime": {
     "end_time": "2020-04-28T11:00:30.920029Z",
     "start_time": "2020-04-28T11:00:30.912993Z"
    }
   },
   "outputs": [
    {
     "data": {
      "text/html": [
       "<div>\n",
       "<style scoped>\n",
       "    .dataframe tbody tr th:only-of-type {\n",
       "        vertical-align: middle;\n",
       "    }\n",
       "\n",
       "    .dataframe tbody tr th {\n",
       "        vertical-align: top;\n",
       "    }\n",
       "\n",
       "    .dataframe thead th {\n",
       "        text-align: right;\n",
       "    }\n",
       "</style>\n",
       "<table border=\"1\" class=\"dataframe\">\n",
       "  <thead>\n",
       "    <tr style=\"text-align: right;\">\n",
       "      <th></th>\n",
       "      <th>model</th>\n",
       "      <th>mse</th>\n",
       "      <th>mae</th>\n",
       "      <th>model_details</th>\n",
       "    </tr>\n",
       "  </thead>\n",
       "  <tbody>\n",
       "    <tr>\n",
       "      <th>0</th>\n",
       "      <td>MLPRegressor</td>\n",
       "      <td>0.560168</td>\n",
       "      <td>0.575657</td>\n",
       "      <td>MLPRegressor(activation='relu', alpha=0.0001, ...</td>\n",
       "    </tr>\n",
       "  </tbody>\n",
       "</table>\n",
       "</div>"
      ],
      "text/plain": [
       "          model       mse       mae  \\\n",
       "0  MLPRegressor  0.560168  0.575657   \n",
       "\n",
       "                                       model_details  \n",
       "0  MLPRegressor(activation='relu', alpha=0.0001, ...  "
      ]
     },
     "execution_count": 41,
     "metadata": {},
     "output_type": "execute_result"
    }
   ],
   "source": [
    "df_onerun"
   ]
  },
  {
   "cell_type": "code",
   "execution_count": 42,
   "metadata": {
    "ExecuteTime": {
     "end_time": "2020-04-28T11:00:30.924439Z",
     "start_time": "2020-04-28T11:00:30.920983Z"
    }
   },
   "outputs": [],
   "source": [
    "df_onerun.to_csv('df_onerun.csv', index=False)"
   ]
  },
  {
   "cell_type": "markdown",
   "metadata": {},
   "source": [
    "### k fold CV, hardcoded HPs for MLP"
   ]
  },
  {
   "cell_type": "code",
   "execution_count": 43,
   "metadata": {
    "ExecuteTime": {
     "end_time": "2020-04-28T11:03:44.478243Z",
     "start_time": "2020-04-28T11:00:30.925364Z"
    }
   },
   "outputs": [
    {
     "name": "stderr",
     "output_type": "stream",
     "text": [
      "[Parallel(n_jobs=15)]: Using backend LokyBackend with 15 concurrent workers.\n",
      "[Parallel(n_jobs=15)]: Done   2 out of   5 | elapsed:  1.7min remaining:  2.6min\n",
      "[Parallel(n_jobs=15)]: Done   3 out of   5 | elapsed:  2.0min remaining:  1.3min\n",
      "[Parallel(n_jobs=15)]: Done   5 out of   5 | elapsed:  3.2min remaining:    0.0s\n",
      "[Parallel(n_jobs=15)]: Done   5 out of   5 | elapsed:  3.2min finished\n"
     ]
    }
   ],
   "source": [
    "df_CV_simple = run_simple_model_CV(pipeline_mlp, X, y, scoring='neg_mean_squared_error', cv=5, n_jobs=n_cores-1, verbose=10, df=df_CV_simple)"
   ]
  },
  {
   "cell_type": "code",
   "execution_count": 44,
   "metadata": {
    "ExecuteTime": {
     "end_time": "2020-04-28T11:03:44.487540Z",
     "start_time": "2020-04-28T11:03:44.480054Z"
    }
   },
   "outputs": [
    {
     "data": {
      "text/html": [
       "<div>\n",
       "<style scoped>\n",
       "    .dataframe tbody tr th:only-of-type {\n",
       "        vertical-align: middle;\n",
       "    }\n",
       "\n",
       "    .dataframe tbody tr th {\n",
       "        vertical-align: top;\n",
       "    }\n",
       "\n",
       "    .dataframe thead th {\n",
       "        text-align: right;\n",
       "    }\n",
       "</style>\n",
       "<table border=\"1\" class=\"dataframe\">\n",
       "  <thead>\n",
       "    <tr style=\"text-align: right;\">\n",
       "      <th></th>\n",
       "      <th>model</th>\n",
       "      <th>neg_mean_squared_error</th>\n",
       "      <th>model_details</th>\n",
       "      <th>cv</th>\n",
       "    </tr>\n",
       "  </thead>\n",
       "  <tbody>\n",
       "    <tr>\n",
       "      <th>0</th>\n",
       "      <td>MLPRegressor</td>\n",
       "      <td>2.877248</td>\n",
       "      <td>MLPRegressor(activation='relu', alpha=0.0001, ...</td>\n",
       "      <td>5</td>\n",
       "    </tr>\n",
       "  </tbody>\n",
       "</table>\n",
       "</div>"
      ],
      "text/plain": [
       "          model  neg_mean_squared_error  \\\n",
       "0  MLPRegressor                2.877248   \n",
       "\n",
       "                                       model_details cv  \n",
       "0  MLPRegressor(activation='relu', alpha=0.0001, ...  5  "
      ]
     },
     "execution_count": 44,
     "metadata": {},
     "output_type": "execute_result"
    }
   ],
   "source": [
    "df_CV_simple"
   ]
  },
  {
   "cell_type": "code",
   "execution_count": 45,
   "metadata": {
    "ExecuteTime": {
     "end_time": "2020-04-28T11:03:44.493909Z",
     "start_time": "2020-04-28T11:03:44.488740Z"
    }
   },
   "outputs": [],
   "source": [
    "df_CV_simple.to_csv('df_CV_simple.csv', index=False)"
   ]
  },
  {
   "cell_type": "markdown",
   "metadata": {
    "ExecuteTime": {
     "end_time": "2020-04-26T11:17:03.059845Z",
     "start_time": "2020-04-26T11:17:03.055856Z"
    }
   },
   "source": [
    "### HPs search for MLP"
   ]
  },
  {
   "cell_type": "code",
   "execution_count": 78,
   "metadata": {
    "ExecuteTime": {
     "end_time": "2020-04-28T12:20:13.588692Z",
     "start_time": "2020-04-28T12:20:13.586290Z"
    }
   },
   "outputs": [],
   "source": [
    "param_grid_mlp = {\n",
    "    'mlp__hidden_layer_sizes': [100, 50, 20, 10, 3],\n",
    "}\n",
    "\n",
    "clf_mlp = GridSearchCV(pipeline_mlp, param_grid_mlp,\n",
    "                        scoring='neg_mean_squared_error', n_jobs=n_cores-1,\n",
    "                        cv=k, verbose=10)"
   ]
  },
  {
   "cell_type": "code",
   "execution_count": 79,
   "metadata": {
    "ExecuteTime": {
     "end_time": "2020-04-28T12:43:07.012239Z",
     "start_time": "2020-04-28T12:20:14.471531Z"
    }
   },
   "outputs": [
    {
     "name": "stdout",
     "output_type": "stream",
     "text": [
      "Fitting 5 folds for each of 5 candidates, totalling 25 fits\n"
     ]
    },
    {
     "name": "stderr",
     "output_type": "stream",
     "text": [
      "[Parallel(n_jobs=15)]: Using backend LokyBackend with 15 concurrent workers.\n",
      "[Parallel(n_jobs=15)]: Done   2 out of  25 | elapsed:  2.7min remaining: 31.4min\n",
      "[Parallel(n_jobs=15)]: Done   5 out of  25 | elapsed:  3.0min remaining: 12.2min\n",
      "[Parallel(n_jobs=15)]: Done   8 out of  25 | elapsed:  3.4min remaining:  7.3min\n",
      "[Parallel(n_jobs=15)]: Done  11 out of  25 | elapsed:  3.6min remaining:  4.6min\n",
      "[Parallel(n_jobs=15)]: Done  14 out of  25 | elapsed:  4.0min remaining:  3.1min\n",
      "[Parallel(n_jobs=15)]: Done  17 out of  25 | elapsed:  6.9min remaining:  3.3min\n",
      "[Parallel(n_jobs=15)]: Done  20 out of  25 | elapsed:  8.1min remaining:  2.0min\n",
      "[Parallel(n_jobs=15)]: Done  23 out of  25 | elapsed: 10.7min remaining:   55.8s\n",
      "[Parallel(n_jobs=15)]: Done  25 out of  25 | elapsed: 13.5min finished\n"
     ]
    },
    {
     "name": "stdout",
     "output_type": "stream",
     "text": [
      "[Pipeline] ............ (step 1 of 2) Processing scaler, total=   0.1s\n",
      "[Pipeline] ............... (step 2 of 2) Processing mlp, total= 9.4min\n"
     ]
    }
   ],
   "source": [
    "df_gridsearch_onesplit = run_gridsearch_onesplit(pipeline_mlp, X_train, y_train, X_test, y_test, \n",
    "                                                 param_grid=param_grid_mlp, scoring='neg_mean_squared_error', \n",
    "                                                 n_jobs=n_cores-1, cv=k, verbose=10, df=df_gridsearch_onesplit)"
   ]
  },
  {
   "cell_type": "code",
   "execution_count": 80,
   "metadata": {
    "ExecuteTime": {
     "end_time": "2020-04-28T12:43:08.013463Z",
     "start_time": "2020-04-28T12:43:07.972840Z"
    }
   },
   "outputs": [
    {
     "data": {
      "text/html": [
       "<div>\n",
       "<style scoped>\n",
       "    .dataframe tbody tr th:only-of-type {\n",
       "        vertical-align: middle;\n",
       "    }\n",
       "\n",
       "    .dataframe tbody tr th {\n",
       "        vertical-align: top;\n",
       "    }\n",
       "\n",
       "    .dataframe thead th {\n",
       "        text-align: right;\n",
       "    }\n",
       "</style>\n",
       "<table border=\"1\" class=\"dataframe\">\n",
       "  <thead>\n",
       "    <tr style=\"text-align: right;\">\n",
       "      <th></th>\n",
       "      <th>model</th>\n",
       "      <th>mse</th>\n",
       "      <th>mae</th>\n",
       "      <th>neg_mean_squared_error</th>\n",
       "      <th>best_params</th>\n",
       "      <th>model_details</th>\n",
       "      <th>cv</th>\n",
       "    </tr>\n",
       "  </thead>\n",
       "  <tbody>\n",
       "    <tr>\n",
       "      <th>0</th>\n",
       "      <td>KNeighborsRegressor</td>\n",
       "      <td>0.531430</td>\n",
       "      <td>0.571275</td>\n",
       "      <td>neg_mean_squared_error</td>\n",
       "      <td>{'knn__n_neighbors': 8, 'knn__p': 1}</td>\n",
       "      <td>KNeighborsRegressor(algorithm='auto', leaf_siz...</td>\n",
       "      <td>5</td>\n",
       "    </tr>\n",
       "    <tr>\n",
       "      <th>1</th>\n",
       "      <td>RandomForestRegressor</td>\n",
       "      <td>0.349515</td>\n",
       "      <td>0.460214</td>\n",
       "      <td>neg_mean_squared_error</td>\n",
       "      <td>{'rf__max_depth': None, 'rf__n_estimators': 20}</td>\n",
       "      <td>(DecisionTreeRegressor(ccp_alpha=0.0, criterio...</td>\n",
       "      <td>5</td>\n",
       "    </tr>\n",
       "    <tr>\n",
       "      <th>2</th>\n",
       "      <td>MLPRegressor</td>\n",
       "      <td>0.456235</td>\n",
       "      <td>0.528674</td>\n",
       "      <td>neg_mean_squared_error</td>\n",
       "      <td>{'mlp__hidden_layer_sizes': 100}</td>\n",
       "      <td>MLPRegressor(activation='relu', alpha=0.0001, ...</td>\n",
       "      <td>5</td>\n",
       "    </tr>\n",
       "  </tbody>\n",
       "</table>\n",
       "</div>"
      ],
      "text/plain": [
       "                   model       mse       mae  neg_mean_squared_error  \\\n",
       "0    KNeighborsRegressor  0.531430  0.571275  neg_mean_squared_error   \n",
       "1  RandomForestRegressor  0.349515  0.460214  neg_mean_squared_error   \n",
       "2           MLPRegressor  0.456235  0.528674  neg_mean_squared_error   \n",
       "\n",
       "                                       best_params  \\\n",
       "0             {'knn__n_neighbors': 8, 'knn__p': 1}   \n",
       "1  {'rf__max_depth': None, 'rf__n_estimators': 20}   \n",
       "2                 {'mlp__hidden_layer_sizes': 100}   \n",
       "\n",
       "                                       model_details cv  \n",
       "0  KNeighborsRegressor(algorithm='auto', leaf_siz...  5  \n",
       "1  (DecisionTreeRegressor(ccp_alpha=0.0, criterio...  5  \n",
       "2  MLPRegressor(activation='relu', alpha=0.0001, ...  5  "
      ]
     },
     "execution_count": 80,
     "metadata": {},
     "output_type": "execute_result"
    }
   ],
   "source": [
    "df_gridsearch_onesplit"
   ]
  },
  {
   "cell_type": "code",
   "execution_count": 81,
   "metadata": {
    "ExecuteTime": {
     "end_time": "2020-04-28T12:43:08.939467Z",
     "start_time": "2020-04-28T12:43:08.935471Z"
    }
   },
   "outputs": [],
   "source": [
    "df_gridsearch_onesplit.to_csv('df_gridsearch_onesplit.csv', index=False)"
   ]
  },
  {
   "cell_type": "markdown",
   "metadata": {},
   "source": [
    "### Cross validation + nested grid search"
   ]
  },
  {
   "cell_type": "code",
   "execution_count": 82,
   "metadata": {
    "ExecuteTime": {
     "end_time": "2020-04-28T14:44:15.075776Z",
     "start_time": "2020-04-28T12:43:09.832286Z"
    }
   },
   "outputs": [
    {
     "name": "stderr",
     "output_type": "stream",
     "text": [
      "[Parallel(n_jobs=15)]: Using backend LokyBackend with 15 concurrent workers.\n",
      "[Parallel(n_jobs=15)]: Done   2 out of   5 | elapsed: 105.1min remaining: 157.6min\n",
      "[Parallel(n_jobs=15)]: Done   3 out of   5 | elapsed: 106.8min remaining: 71.2min\n",
      "[Parallel(n_jobs=15)]: Done   5 out of   5 | elapsed: 121.1min remaining:    0.0s\n",
      "[Parallel(n_jobs=15)]: Done   5 out of   5 | elapsed: 121.1min finished\n"
     ]
    }
   ],
   "source": [
    "df_crossvalid_hpsearch = run_crossvalid_hpsearch(X, y, pipeline_mlp, param_grid_mlp, cv1 = k, cv2 = k, df=df_crossvalid_hpsearch)"
   ]
  },
  {
   "cell_type": "code",
   "execution_count": 83,
   "metadata": {
    "ExecuteTime": {
     "end_time": "2020-04-28T14:44:16.082998Z",
     "start_time": "2020-04-28T14:44:16.029084Z"
    }
   },
   "outputs": [
    {
     "data": {
      "text/html": [
       "<div>\n",
       "<style scoped>\n",
       "    .dataframe tbody tr th:only-of-type {\n",
       "        vertical-align: middle;\n",
       "    }\n",
       "\n",
       "    .dataframe tbody tr th {\n",
       "        vertical-align: top;\n",
       "    }\n",
       "\n",
       "    .dataframe thead th {\n",
       "        text-align: right;\n",
       "    }\n",
       "</style>\n",
       "<table border=\"1\" class=\"dataframe\">\n",
       "  <thead>\n",
       "    <tr style=\"text-align: right;\">\n",
       "      <th></th>\n",
       "      <th>model</th>\n",
       "      <th>mean_score</th>\n",
       "      <th>neg_mean_squared_error</th>\n",
       "      <th>model_details</th>\n",
       "      <th>cv1</th>\n",
       "      <th>cv2</th>\n",
       "    </tr>\n",
       "  </thead>\n",
       "  <tbody>\n",
       "    <tr>\n",
       "      <th>0</th>\n",
       "      <td>RandomForestRegressor</td>\n",
       "      <td>0.735115</td>\n",
       "      <td>neg_mean_squared_error</td>\n",
       "      <td>(DecisionTreeRegressor(ccp_alpha=0.0, criterio...</td>\n",
       "      <td>5</td>\n",
       "      <td>5</td>\n",
       "    </tr>\n",
       "    <tr>\n",
       "      <th>1</th>\n",
       "      <td>KNeighborsRegressor</td>\n",
       "      <td>0.765393</td>\n",
       "      <td>neg_mean_squared_error</td>\n",
       "      <td>KNeighborsRegressor(algorithm='auto', leaf_siz...</td>\n",
       "      <td>5</td>\n",
       "      <td>5</td>\n",
       "    </tr>\n",
       "    <tr>\n",
       "      <th>2</th>\n",
       "      <td>MLPRegressor</td>\n",
       "      <td>0.671098</td>\n",
       "      <td>neg_mean_squared_error</td>\n",
       "      <td>MLPRegressor(activation='relu', alpha=0.0001, ...</td>\n",
       "      <td>5</td>\n",
       "      <td>5</td>\n",
       "    </tr>\n",
       "  </tbody>\n",
       "</table>\n",
       "</div>"
      ],
      "text/plain": [
       "                   model  mean_score  neg_mean_squared_error  \\\n",
       "0  RandomForestRegressor    0.735115  neg_mean_squared_error   \n",
       "1    KNeighborsRegressor    0.765393  neg_mean_squared_error   \n",
       "2           MLPRegressor    0.671098  neg_mean_squared_error   \n",
       "\n",
       "                                       model_details cv1 cv2  \n",
       "0  (DecisionTreeRegressor(ccp_alpha=0.0, criterio...   5   5  \n",
       "1  KNeighborsRegressor(algorithm='auto', leaf_siz...   5   5  \n",
       "2  MLPRegressor(activation='relu', alpha=0.0001, ...   5   5  "
      ]
     },
     "execution_count": 83,
     "metadata": {},
     "output_type": "execute_result"
    }
   ],
   "source": [
    "df_crossvalid_hpsearch"
   ]
  },
  {
   "cell_type": "code",
   "execution_count": 84,
   "metadata": {
    "ExecuteTime": {
     "end_time": "2020-04-28T14:44:16.956710Z",
     "start_time": "2020-04-28T14:44:16.951903Z"
    }
   },
   "outputs": [],
   "source": [
    "df_crossvalid_hpsearch.to_csv('df_crossvalid_hpsearch.csv', index=False)"
   ]
  },
  {
   "cell_type": "markdown",
   "metadata": {},
   "source": [
    "## Model: KNN"
   ]
  },
  {
   "cell_type": "code",
   "execution_count": 46,
   "metadata": {
    "ExecuteTime": {
     "end_time": "2020-04-28T11:04:01.428085Z",
     "start_time": "2020-04-28T11:04:01.425665Z"
    }
   },
   "outputs": [],
   "source": [
    "pipeline_knn = Pipeline([('scaler', MinMaxScaler()), ('knn', KNeighborsRegressor(n_neighbors=3))], verbose=1)"
   ]
  },
  {
   "cell_type": "markdown",
   "metadata": {},
   "source": [
    "### One train/test split, hardcoded HPs for KNN"
   ]
  },
  {
   "cell_type": "code",
   "execution_count": 47,
   "metadata": {
    "ExecuteTime": {
     "end_time": "2020-04-28T11:04:44.408545Z",
     "start_time": "2020-04-28T11:04:01.802938Z"
    }
   },
   "outputs": [
    {
     "name": "stdout",
     "output_type": "stream",
     "text": [
      "[Pipeline] ............ (step 1 of 2) Processing scaler, total=   0.0s\n",
      "[Pipeline] ............... (step 2 of 2) Processing knn, total=  12.9s\n"
     ]
    }
   ],
   "source": [
    "df_onerun = run_model_hardcoded(pipeline_knn, X_train, y_train, X_test, y_test, df_onerun)"
   ]
  },
  {
   "cell_type": "code",
   "execution_count": 48,
   "metadata": {
    "ExecuteTime": {
     "end_time": "2020-04-28T11:04:44.791588Z",
     "start_time": "2020-04-28T11:04:44.785219Z"
    }
   },
   "outputs": [
    {
     "data": {
      "text/html": [
       "<div>\n",
       "<style scoped>\n",
       "    .dataframe tbody tr th:only-of-type {\n",
       "        vertical-align: middle;\n",
       "    }\n",
       "\n",
       "    .dataframe tbody tr th {\n",
       "        vertical-align: top;\n",
       "    }\n",
       "\n",
       "    .dataframe thead th {\n",
       "        text-align: right;\n",
       "    }\n",
       "</style>\n",
       "<table border=\"1\" class=\"dataframe\">\n",
       "  <thead>\n",
       "    <tr style=\"text-align: right;\">\n",
       "      <th></th>\n",
       "      <th>model</th>\n",
       "      <th>mse</th>\n",
       "      <th>mae</th>\n",
       "      <th>model_details</th>\n",
       "    </tr>\n",
       "  </thead>\n",
       "  <tbody>\n",
       "    <tr>\n",
       "      <th>0</th>\n",
       "      <td>MLPRegressor</td>\n",
       "      <td>0.560168</td>\n",
       "      <td>0.575657</td>\n",
       "      <td>MLPRegressor(activation='relu', alpha=0.0001, ...</td>\n",
       "    </tr>\n",
       "    <tr>\n",
       "      <th>1</th>\n",
       "      <td>KNeighborsRegressor</td>\n",
       "      <td>0.683094</td>\n",
       "      <td>0.643157</td>\n",
       "      <td>KNeighborsRegressor(algorithm='auto', leaf_siz...</td>\n",
       "    </tr>\n",
       "  </tbody>\n",
       "</table>\n",
       "</div>"
      ],
      "text/plain": [
       "                 model       mse       mae  \\\n",
       "0         MLPRegressor  0.560168  0.575657   \n",
       "1  KNeighborsRegressor  0.683094  0.643157   \n",
       "\n",
       "                                       model_details  \n",
       "0  MLPRegressor(activation='relu', alpha=0.0001, ...  \n",
       "1  KNeighborsRegressor(algorithm='auto', leaf_siz...  "
      ]
     },
     "execution_count": 48,
     "metadata": {},
     "output_type": "execute_result"
    }
   ],
   "source": [
    "df_onerun"
   ]
  },
  {
   "cell_type": "code",
   "execution_count": 49,
   "metadata": {
    "ExecuteTime": {
     "end_time": "2020-04-28T11:04:45.189354Z",
     "start_time": "2020-04-28T11:04:45.186047Z"
    }
   },
   "outputs": [],
   "source": [
    "df_onerun.to_csv('df_onerun.csv', index=False)"
   ]
  },
  {
   "cell_type": "markdown",
   "metadata": {},
   "source": [
    "### k fold CV, hardcoded HPs for KNN"
   ]
  },
  {
   "cell_type": "code",
   "execution_count": 50,
   "metadata": {
    "ExecuteTime": {
     "end_time": "2020-04-28T11:05:36.348196Z",
     "start_time": "2020-04-28T11:04:45.571393Z"
    }
   },
   "outputs": [
    {
     "name": "stderr",
     "output_type": "stream",
     "text": [
      "[Parallel(n_jobs=15)]: Using backend LokyBackend with 15 concurrent workers.\n",
      "[Parallel(n_jobs=15)]: Done   2 out of   5 | elapsed:   37.5s remaining:   56.2s\n",
      "[Parallel(n_jobs=15)]: Done   3 out of   5 | elapsed:   40.4s remaining:   26.9s\n",
      "[Parallel(n_jobs=15)]: Done   5 out of   5 | elapsed:   50.8s remaining:    0.0s\n",
      "[Parallel(n_jobs=15)]: Done   5 out of   5 | elapsed:   50.8s finished\n"
     ]
    }
   ],
   "source": [
    "df_CV_simple = run_simple_model_CV(pipeline_knn, X, y, scoring='neg_mean_squared_error', cv=5, n_jobs=n_cores-1, verbose=10, df=df_CV_simple)"
   ]
  },
  {
   "cell_type": "code",
   "execution_count": 51,
   "metadata": {
    "ExecuteTime": {
     "end_time": "2020-04-28T11:05:36.726124Z",
     "start_time": "2020-04-28T11:05:36.719111Z"
    }
   },
   "outputs": [
    {
     "data": {
      "text/html": [
       "<div>\n",
       "<style scoped>\n",
       "    .dataframe tbody tr th:only-of-type {\n",
       "        vertical-align: middle;\n",
       "    }\n",
       "\n",
       "    .dataframe tbody tr th {\n",
       "        vertical-align: top;\n",
       "    }\n",
       "\n",
       "    .dataframe thead th {\n",
       "        text-align: right;\n",
       "    }\n",
       "</style>\n",
       "<table border=\"1\" class=\"dataframe\">\n",
       "  <thead>\n",
       "    <tr style=\"text-align: right;\">\n",
       "      <th></th>\n",
       "      <th>model</th>\n",
       "      <th>neg_mean_squared_error</th>\n",
       "      <th>model_details</th>\n",
       "      <th>cv</th>\n",
       "    </tr>\n",
       "  </thead>\n",
       "  <tbody>\n",
       "    <tr>\n",
       "      <th>0</th>\n",
       "      <td>MLPRegressor</td>\n",
       "      <td>2.877248</td>\n",
       "      <td>MLPRegressor(activation='relu', alpha=0.0001, ...</td>\n",
       "      <td>5</td>\n",
       "    </tr>\n",
       "    <tr>\n",
       "      <th>1</th>\n",
       "      <td>KNeighborsRegressor</td>\n",
       "      <td>0.904677</td>\n",
       "      <td>KNeighborsRegressor(algorithm='auto', leaf_siz...</td>\n",
       "      <td>5</td>\n",
       "    </tr>\n",
       "  </tbody>\n",
       "</table>\n",
       "</div>"
      ],
      "text/plain": [
       "                 model  neg_mean_squared_error  \\\n",
       "0         MLPRegressor                2.877248   \n",
       "1  KNeighborsRegressor                0.904677   \n",
       "\n",
       "                                       model_details cv  \n",
       "0  MLPRegressor(activation='relu', alpha=0.0001, ...  5  \n",
       "1  KNeighborsRegressor(algorithm='auto', leaf_siz...  5  "
      ]
     },
     "execution_count": 51,
     "metadata": {},
     "output_type": "execute_result"
    }
   ],
   "source": [
    "df_CV_simple"
   ]
  },
  {
   "cell_type": "code",
   "execution_count": 52,
   "metadata": {
    "ExecuteTime": {
     "end_time": "2020-04-28T11:05:37.132123Z",
     "start_time": "2020-04-28T11:05:37.129143Z"
    }
   },
   "outputs": [],
   "source": [
    "df_CV_simple.to_csv('df_CV_simple.csv', index=False)"
   ]
  },
  {
   "cell_type": "markdown",
   "metadata": {},
   "source": [
    "### HPs search for KNN"
   ]
  },
  {
   "cell_type": "code",
   "execution_count": 53,
   "metadata": {
    "ExecuteTime": {
     "end_time": "2020-04-28T11:05:37.517915Z",
     "start_time": "2020-04-28T11:05:37.514094Z"
    }
   },
   "outputs": [],
   "source": [
    "param_grid_knn = {\n",
    "    'knn__n_neighbors': [4, 5, 6, 7, 8],\n",
    "    'knn__p': [1, 2],\n",
    "}"
   ]
  },
  {
   "cell_type": "code",
   "execution_count": 54,
   "metadata": {
    "ExecuteTime": {
     "end_time": "2020-04-28T11:10:41.344089Z",
     "start_time": "2020-04-28T11:05:37.928475Z"
    }
   },
   "outputs": [
    {
     "name": "stdout",
     "output_type": "stream",
     "text": [
      "Fitting 5 folds for each of 10 candidates, totalling 50 fits\n"
     ]
    },
    {
     "name": "stderr",
     "output_type": "stream",
     "text": [
      "[Parallel(n_jobs=15)]: Using backend LokyBackend with 15 concurrent workers.\n",
      "[Parallel(n_jobs=15)]: Done   2 tasks      | elapsed:   56.9s\n",
      "[Parallel(n_jobs=15)]: Done  11 tasks      | elapsed:  1.1min\n",
      "[Parallel(n_jobs=15)]: Done  20 tasks      | elapsed:  2.0min\n",
      "[Parallel(n_jobs=15)]: Done  27 out of  50 | elapsed:  2.2min remaining:  1.9min\n",
      "[Parallel(n_jobs=15)]: Done  33 out of  50 | elapsed:  3.0min remaining:  1.6min\n",
      "[Parallel(n_jobs=15)]: Done  39 out of  50 | elapsed:  3.4min remaining:   58.3s\n",
      "[Parallel(n_jobs=15)]: Done  45 out of  50 | elapsed:  3.6min remaining:   24.3s\n",
      "[Parallel(n_jobs=15)]: Done  50 out of  50 | elapsed:  3.9min finished\n"
     ]
    },
    {
     "name": "stdout",
     "output_type": "stream",
     "text": [
      "[Pipeline] ............ (step 1 of 2) Processing scaler, total=   0.1s\n",
      "[Pipeline] ............... (step 2 of 2) Processing knn, total=  12.9s\n"
     ]
    }
   ],
   "source": [
    "df_gridsearch_onesplit = run_gridsearch_onesplit(pipeline_knn, X_train, y_train, X_test, y_test, \n",
    "                                                 param_grid=param_grid_knn, scoring='neg_mean_squared_error', \n",
    "                                                 n_jobs=n_cores-1, cv=k, verbose=10, df=df_gridsearch_onesplit)"
   ]
  },
  {
   "cell_type": "code",
   "execution_count": 55,
   "metadata": {
    "ExecuteTime": {
     "end_time": "2020-04-28T11:10:41.801384Z",
     "start_time": "2020-04-28T11:10:41.794745Z"
    }
   },
   "outputs": [
    {
     "data": {
      "text/html": [
       "<div>\n",
       "<style scoped>\n",
       "    .dataframe tbody tr th:only-of-type {\n",
       "        vertical-align: middle;\n",
       "    }\n",
       "\n",
       "    .dataframe tbody tr th {\n",
       "        vertical-align: top;\n",
       "    }\n",
       "\n",
       "    .dataframe thead th {\n",
       "        text-align: right;\n",
       "    }\n",
       "</style>\n",
       "<table border=\"1\" class=\"dataframe\">\n",
       "  <thead>\n",
       "    <tr style=\"text-align: right;\">\n",
       "      <th></th>\n",
       "      <th>model</th>\n",
       "      <th>mse</th>\n",
       "      <th>mae</th>\n",
       "      <th>neg_mean_squared_error</th>\n",
       "      <th>best_params</th>\n",
       "      <th>model_details</th>\n",
       "      <th>cv</th>\n",
       "    </tr>\n",
       "  </thead>\n",
       "  <tbody>\n",
       "    <tr>\n",
       "      <th>0</th>\n",
       "      <td>KNeighborsRegressor</td>\n",
       "      <td>0.53143</td>\n",
       "      <td>0.571275</td>\n",
       "      <td>neg_mean_squared_error</td>\n",
       "      <td>{'knn__n_neighbors': 8, 'knn__p': 1}</td>\n",
       "      <td>KNeighborsRegressor(algorithm='auto', leaf_siz...</td>\n",
       "      <td>5</td>\n",
       "    </tr>\n",
       "  </tbody>\n",
       "</table>\n",
       "</div>"
      ],
      "text/plain": [
       "                 model      mse       mae  neg_mean_squared_error  \\\n",
       "0  KNeighborsRegressor  0.53143  0.571275  neg_mean_squared_error   \n",
       "\n",
       "                            best_params  \\\n",
       "0  {'knn__n_neighbors': 8, 'knn__p': 1}   \n",
       "\n",
       "                                       model_details cv  \n",
       "0  KNeighborsRegressor(algorithm='auto', leaf_siz...  5  "
      ]
     },
     "execution_count": 55,
     "metadata": {},
     "output_type": "execute_result"
    }
   ],
   "source": [
    "df_gridsearch_onesplit"
   ]
  },
  {
   "cell_type": "code",
   "execution_count": 56,
   "metadata": {
    "ExecuteTime": {
     "end_time": "2020-04-28T11:10:42.214830Z",
     "start_time": "2020-04-28T11:10:42.211978Z"
    }
   },
   "outputs": [],
   "source": [
    "df_gridsearch_onesplit.to_csv('df_gridsearch_onesplit.csv', index=False)"
   ]
  },
  {
   "cell_type": "markdown",
   "metadata": {},
   "source": [
    "### Cross validation + nested grid search"
   ]
  },
  {
   "cell_type": "code",
   "execution_count": 75,
   "metadata": {
    "ExecuteTime": {
     "end_time": "2020-04-28T12:20:11.013736Z",
     "start_time": "2020-04-28T11:52:24.151180Z"
    }
   },
   "outputs": [
    {
     "name": "stderr",
     "output_type": "stream",
     "text": [
      "[Parallel(n_jobs=15)]: Using backend LokyBackend with 15 concurrent workers.\n",
      "[Parallel(n_jobs=15)]: Done   2 out of   5 | elapsed: 24.3min remaining: 36.5min\n",
      "[Parallel(n_jobs=15)]: Done   3 out of   5 | elapsed: 24.5min remaining: 16.3min\n",
      "[Parallel(n_jobs=15)]: Done   5 out of   5 | elapsed: 27.8min remaining:    0.0s\n",
      "[Parallel(n_jobs=15)]: Done   5 out of   5 | elapsed: 27.8min finished\n"
     ]
    }
   ],
   "source": [
    "df_crossvalid_hpsearch = run_crossvalid_hpsearch(X, y, pipeline_knn, param_grid_knn, cv1 = k, cv2 = k, df=df_crossvalid_hpsearch)"
   ]
  },
  {
   "cell_type": "code",
   "execution_count": 76,
   "metadata": {
    "ExecuteTime": {
     "end_time": "2020-04-28T12:20:11.897339Z",
     "start_time": "2020-04-28T12:20:11.857838Z"
    }
   },
   "outputs": [
    {
     "data": {
      "text/html": [
       "<div>\n",
       "<style scoped>\n",
       "    .dataframe tbody tr th:only-of-type {\n",
       "        vertical-align: middle;\n",
       "    }\n",
       "\n",
       "    .dataframe tbody tr th {\n",
       "        vertical-align: top;\n",
       "    }\n",
       "\n",
       "    .dataframe thead th {\n",
       "        text-align: right;\n",
       "    }\n",
       "</style>\n",
       "<table border=\"1\" class=\"dataframe\">\n",
       "  <thead>\n",
       "    <tr style=\"text-align: right;\">\n",
       "      <th></th>\n",
       "      <th>model</th>\n",
       "      <th>mean_score</th>\n",
       "      <th>neg_mean_squared_error</th>\n",
       "      <th>model_details</th>\n",
       "      <th>cv1</th>\n",
       "      <th>cv2</th>\n",
       "    </tr>\n",
       "  </thead>\n",
       "  <tbody>\n",
       "    <tr>\n",
       "      <th>0</th>\n",
       "      <td>RandomForestRegressor</td>\n",
       "      <td>0.735115</td>\n",
       "      <td>neg_mean_squared_error</td>\n",
       "      <td>(DecisionTreeRegressor(ccp_alpha=0.0, criterio...</td>\n",
       "      <td>5</td>\n",
       "      <td>5</td>\n",
       "    </tr>\n",
       "    <tr>\n",
       "      <th>1</th>\n",
       "      <td>KNeighborsRegressor</td>\n",
       "      <td>0.765393</td>\n",
       "      <td>neg_mean_squared_error</td>\n",
       "      <td>KNeighborsRegressor(algorithm='auto', leaf_siz...</td>\n",
       "      <td>5</td>\n",
       "      <td>5</td>\n",
       "    </tr>\n",
       "  </tbody>\n",
       "</table>\n",
       "</div>"
      ],
      "text/plain": [
       "                   model  mean_score  neg_mean_squared_error  \\\n",
       "0  RandomForestRegressor    0.735115  neg_mean_squared_error   \n",
       "1    KNeighborsRegressor    0.765393  neg_mean_squared_error   \n",
       "\n",
       "                                       model_details cv1 cv2  \n",
       "0  (DecisionTreeRegressor(ccp_alpha=0.0, criterio...   5   5  \n",
       "1  KNeighborsRegressor(algorithm='auto', leaf_siz...   5   5  "
      ]
     },
     "execution_count": 76,
     "metadata": {},
     "output_type": "execute_result"
    }
   ],
   "source": [
    "df_crossvalid_hpsearch"
   ]
  },
  {
   "cell_type": "code",
   "execution_count": 77,
   "metadata": {
    "ExecuteTime": {
     "end_time": "2020-04-28T12:20:12.751829Z",
     "start_time": "2020-04-28T12:20:12.748625Z"
    }
   },
   "outputs": [],
   "source": [
    "df_crossvalid_hpsearch.to_csv('df_crossvalid_hpsearch.csv', index=False)"
   ]
  },
  {
   "cell_type": "markdown",
   "metadata": {},
   "source": [
    "## Random forest"
   ]
  },
  {
   "cell_type": "code",
   "execution_count": 57,
   "metadata": {
    "ExecuteTime": {
     "end_time": "2020-04-28T11:10:42.778735Z",
     "start_time": "2020-04-28T11:10:42.775366Z"
    }
   },
   "outputs": [],
   "source": [
    "pipeline_rf = Pipeline([('scaler', MinMaxScaler()), ('rf', RandomForestRegressor())], verbose=1)"
   ]
  },
  {
   "cell_type": "markdown",
   "metadata": {},
   "source": [
    "### One train/test split, hardcoded HPs for RF"
   ]
  },
  {
   "cell_type": "code",
   "execution_count": 58,
   "metadata": {
    "ExecuteTime": {
     "end_time": "2020-04-28T11:12:57.369820Z",
     "start_time": "2020-04-28T11:10:43.262726Z"
    }
   },
   "outputs": [
    {
     "name": "stdout",
     "output_type": "stream",
     "text": [
      "[Pipeline] ............ (step 1 of 2) Processing scaler, total=   0.1s\n",
      "[Pipeline] ................ (step 2 of 2) Processing rf, total= 2.1min\n"
     ]
    }
   ],
   "source": [
    "df_onerun = run_model_hardcoded(pipeline_rf, X_train, y_train, X_test, y_test, df_onerun)"
   ]
  },
  {
   "cell_type": "code",
   "execution_count": 59,
   "metadata": {
    "ExecuteTime": {
     "end_time": "2020-04-28T11:12:57.899676Z",
     "start_time": "2020-04-28T11:12:57.864744Z"
    }
   },
   "outputs": [
    {
     "data": {
      "text/html": [
       "<div>\n",
       "<style scoped>\n",
       "    .dataframe tbody tr th:only-of-type {\n",
       "        vertical-align: middle;\n",
       "    }\n",
       "\n",
       "    .dataframe tbody tr th {\n",
       "        vertical-align: top;\n",
       "    }\n",
       "\n",
       "    .dataframe thead th {\n",
       "        text-align: right;\n",
       "    }\n",
       "</style>\n",
       "<table border=\"1\" class=\"dataframe\">\n",
       "  <thead>\n",
       "    <tr style=\"text-align: right;\">\n",
       "      <th></th>\n",
       "      <th>model</th>\n",
       "      <th>mse</th>\n",
       "      <th>mae</th>\n",
       "      <th>model_details</th>\n",
       "    </tr>\n",
       "  </thead>\n",
       "  <tbody>\n",
       "    <tr>\n",
       "      <th>0</th>\n",
       "      <td>MLPRegressor</td>\n",
       "      <td>0.560168</td>\n",
       "      <td>0.575657</td>\n",
       "      <td>MLPRegressor(activation='relu', alpha=0.0001, ...</td>\n",
       "    </tr>\n",
       "    <tr>\n",
       "      <th>1</th>\n",
       "      <td>KNeighborsRegressor</td>\n",
       "      <td>0.683094</td>\n",
       "      <td>0.643157</td>\n",
       "      <td>KNeighborsRegressor(algorithm='auto', leaf_siz...</td>\n",
       "    </tr>\n",
       "    <tr>\n",
       "      <th>2</th>\n",
       "      <td>RandomForestRegressor</td>\n",
       "      <td>0.338870</td>\n",
       "      <td>0.453411</td>\n",
       "      <td>(DecisionTreeRegressor(ccp_alpha=0.0, criterio...</td>\n",
       "    </tr>\n",
       "  </tbody>\n",
       "</table>\n",
       "</div>"
      ],
      "text/plain": [
       "                   model       mse       mae  \\\n",
       "0           MLPRegressor  0.560168  0.575657   \n",
       "1    KNeighborsRegressor  0.683094  0.643157   \n",
       "2  RandomForestRegressor  0.338870  0.453411   \n",
       "\n",
       "                                       model_details  \n",
       "0  MLPRegressor(activation='relu', alpha=0.0001, ...  \n",
       "1  KNeighborsRegressor(algorithm='auto', leaf_siz...  \n",
       "2  (DecisionTreeRegressor(ccp_alpha=0.0, criterio...  "
      ]
     },
     "execution_count": 59,
     "metadata": {},
     "output_type": "execute_result"
    }
   ],
   "source": [
    "df_onerun"
   ]
  },
  {
   "cell_type": "code",
   "execution_count": 60,
   "metadata": {
    "ExecuteTime": {
     "end_time": "2020-04-28T11:12:58.396260Z",
     "start_time": "2020-04-28T11:12:58.392939Z"
    }
   },
   "outputs": [],
   "source": [
    "df_onerun.to_csv('df_onerun.csv', index=False)"
   ]
  },
  {
   "cell_type": "markdown",
   "metadata": {},
   "source": [
    "### k fold CV, hardcoded HPs for RF"
   ]
  },
  {
   "cell_type": "code",
   "execution_count": 61,
   "metadata": {
    "ExecuteTime": {
     "end_time": "2020-04-28T11:15:36.216256Z",
     "start_time": "2020-04-28T11:12:58.943085Z"
    }
   },
   "outputs": [
    {
     "name": "stderr",
     "output_type": "stream",
     "text": [
      "[Parallel(n_jobs=15)]: Using backend LokyBackend with 15 concurrent workers.\n",
      "[Parallel(n_jobs=15)]: Done   2 out of   5 | elapsed:  2.5min remaining:  3.7min\n",
      "[Parallel(n_jobs=15)]: Done   3 out of   5 | elapsed:  2.6min remaining:  1.7min\n",
      "[Parallel(n_jobs=15)]: Done   5 out of   5 | elapsed:  2.6min remaining:    0.0s\n",
      "[Parallel(n_jobs=15)]: Done   5 out of   5 | elapsed:  2.6min finished\n"
     ]
    }
   ],
   "source": [
    "df_CV_simple = run_simple_model_CV(pipeline_rf, X, y, scoring='neg_mean_squared_error', cv=5, n_jobs=n_cores-1, verbose=10, df=df_CV_simple)"
   ]
  },
  {
   "cell_type": "code",
   "execution_count": 62,
   "metadata": {
    "ExecuteTime": {
     "end_time": "2020-04-28T11:15:36.892442Z",
     "start_time": "2020-04-28T11:15:36.856713Z"
    }
   },
   "outputs": [
    {
     "data": {
      "text/html": [
       "<div>\n",
       "<style scoped>\n",
       "    .dataframe tbody tr th:only-of-type {\n",
       "        vertical-align: middle;\n",
       "    }\n",
       "\n",
       "    .dataframe tbody tr th {\n",
       "        vertical-align: top;\n",
       "    }\n",
       "\n",
       "    .dataframe thead th {\n",
       "        text-align: right;\n",
       "    }\n",
       "</style>\n",
       "<table border=\"1\" class=\"dataframe\">\n",
       "  <thead>\n",
       "    <tr style=\"text-align: right;\">\n",
       "      <th></th>\n",
       "      <th>model</th>\n",
       "      <th>neg_mean_squared_error</th>\n",
       "      <th>model_details</th>\n",
       "      <th>cv</th>\n",
       "    </tr>\n",
       "  </thead>\n",
       "  <tbody>\n",
       "    <tr>\n",
       "      <th>0</th>\n",
       "      <td>MLPRegressor</td>\n",
       "      <td>2.877248</td>\n",
       "      <td>MLPRegressor(activation='relu', alpha=0.0001, ...</td>\n",
       "      <td>5</td>\n",
       "    </tr>\n",
       "    <tr>\n",
       "      <th>1</th>\n",
       "      <td>KNeighborsRegressor</td>\n",
       "      <td>0.904677</td>\n",
       "      <td>KNeighborsRegressor(algorithm='auto', leaf_siz...</td>\n",
       "      <td>5</td>\n",
       "    </tr>\n",
       "    <tr>\n",
       "      <th>2</th>\n",
       "      <td>RandomForestRegressor</td>\n",
       "      <td>0.976244</td>\n",
       "      <td>(DecisionTreeRegressor(ccp_alpha=0.0, criterio...</td>\n",
       "      <td>5</td>\n",
       "    </tr>\n",
       "  </tbody>\n",
       "</table>\n",
       "</div>"
      ],
      "text/plain": [
       "                   model  neg_mean_squared_error  \\\n",
       "0           MLPRegressor                2.877248   \n",
       "1    KNeighborsRegressor                0.904677   \n",
       "2  RandomForestRegressor                0.976244   \n",
       "\n",
       "                                       model_details cv  \n",
       "0  MLPRegressor(activation='relu', alpha=0.0001, ...  5  \n",
       "1  KNeighborsRegressor(algorithm='auto', leaf_siz...  5  \n",
       "2  (DecisionTreeRegressor(ccp_alpha=0.0, criterio...  5  "
      ]
     },
     "execution_count": 62,
     "metadata": {},
     "output_type": "execute_result"
    }
   ],
   "source": [
    "df_CV_simple"
   ]
  },
  {
   "cell_type": "code",
   "execution_count": 63,
   "metadata": {
    "ExecuteTime": {
     "end_time": "2020-04-28T11:15:37.549190Z",
     "start_time": "2020-04-28T11:15:37.545693Z"
    }
   },
   "outputs": [],
   "source": [
    "df_CV_simple.to_csv('df_CV_simple.csv', index=False)"
   ]
  },
  {
   "cell_type": "markdown",
   "metadata": {},
   "source": [
    "### HPs search for RF"
   ]
  },
  {
   "cell_type": "code",
   "execution_count": 64,
   "metadata": {
    "ExecuteTime": {
     "end_time": "2020-04-28T11:15:38.151502Z",
     "start_time": "2020-04-28T11:15:38.149564Z"
    }
   },
   "outputs": [],
   "source": [
    "param_grid_rf = {\n",
    "    'rf__max_depth': [1, 2, 3, 4, 5, None],\n",
    "    'rf__n_estimators': [2, 5, 10, 20]\n",
    "}"
   ]
  },
  {
   "cell_type": "code",
   "execution_count": 65,
   "metadata": {
    "ExecuteTime": {
     "end_time": "2020-04-28T11:17:28.354197Z",
     "start_time": "2020-04-28T11:15:38.770446Z"
    }
   },
   "outputs": [
    {
     "name": "stdout",
     "output_type": "stream",
     "text": [
      "Fitting 5 folds for each of 24 candidates, totalling 120 fits\n"
     ]
    },
    {
     "name": "stderr",
     "output_type": "stream",
     "text": [
      "[Parallel(n_jobs=15)]: Using backend LokyBackend with 15 concurrent workers.\n",
      "[Parallel(n_jobs=15)]: Done   2 tasks      | elapsed:    1.0s\n",
      "[Parallel(n_jobs=15)]: Done  11 tasks      | elapsed:    3.3s\n",
      "[Parallel(n_jobs=15)]: Done  20 tasks      | elapsed:    3.8s\n",
      "[Parallel(n_jobs=15)]: Done  31 tasks      | elapsed:    7.8s\n",
      "[Parallel(n_jobs=15)]: Done  42 tasks      | elapsed:   11.7s\n",
      "[Parallel(n_jobs=15)]: Done  55 tasks      | elapsed:   16.7s\n",
      "[Parallel(n_jobs=15)]: Done  68 tasks      | elapsed:   26.3s\n",
      "[Parallel(n_jobs=15)]: Done  83 tasks      | elapsed:   33.8s\n",
      "[Parallel(n_jobs=15)]: Done 104 out of 120 | elapsed:   53.9s remaining:    8.3s\n",
      "[Parallel(n_jobs=15)]: Done 117 out of 120 | elapsed:  1.4min remaining:    2.1s\n",
      "[Parallel(n_jobs=15)]: Done 120 out of 120 | elapsed:  1.4min finished\n"
     ]
    },
    {
     "name": "stdout",
     "output_type": "stream",
     "text": [
      "[Pipeline] ............ (step 1 of 2) Processing scaler, total=   0.1s\n",
      "[Pipeline] ................ (step 2 of 2) Processing rf, total=  23.8s\n"
     ]
    }
   ],
   "source": [
    "df_gridsearch_onesplit = run_gridsearch_onesplit(pipeline_rf, X_train, y_train, X_test, y_test, \n",
    "                                                 param_grid=param_grid_rf, scoring='neg_mean_squared_error', \n",
    "                                                 n_jobs=n_cores-1, cv=k, verbose=10, df=df_gridsearch_onesplit)"
   ]
  },
  {
   "cell_type": "code",
   "execution_count": 66,
   "metadata": {
    "ExecuteTime": {
     "end_time": "2020-04-28T11:17:29.087830Z",
     "start_time": "2020-04-28T11:17:29.049477Z"
    }
   },
   "outputs": [
    {
     "data": {
      "text/html": [
       "<div>\n",
       "<style scoped>\n",
       "    .dataframe tbody tr th:only-of-type {\n",
       "        vertical-align: middle;\n",
       "    }\n",
       "\n",
       "    .dataframe tbody tr th {\n",
       "        vertical-align: top;\n",
       "    }\n",
       "\n",
       "    .dataframe thead th {\n",
       "        text-align: right;\n",
       "    }\n",
       "</style>\n",
       "<table border=\"1\" class=\"dataframe\">\n",
       "  <thead>\n",
       "    <tr style=\"text-align: right;\">\n",
       "      <th></th>\n",
       "      <th>model</th>\n",
       "      <th>mse</th>\n",
       "      <th>mae</th>\n",
       "      <th>neg_mean_squared_error</th>\n",
       "      <th>best_params</th>\n",
       "      <th>model_details</th>\n",
       "      <th>cv</th>\n",
       "    </tr>\n",
       "  </thead>\n",
       "  <tbody>\n",
       "    <tr>\n",
       "      <th>0</th>\n",
       "      <td>KNeighborsRegressor</td>\n",
       "      <td>0.531430</td>\n",
       "      <td>0.571275</td>\n",
       "      <td>neg_mean_squared_error</td>\n",
       "      <td>{'knn__n_neighbors': 8, 'knn__p': 1}</td>\n",
       "      <td>KNeighborsRegressor(algorithm='auto', leaf_siz...</td>\n",
       "      <td>5</td>\n",
       "    </tr>\n",
       "    <tr>\n",
       "      <th>1</th>\n",
       "      <td>RandomForestRegressor</td>\n",
       "      <td>0.349515</td>\n",
       "      <td>0.460214</td>\n",
       "      <td>neg_mean_squared_error</td>\n",
       "      <td>{'rf__max_depth': None, 'rf__n_estimators': 20}</td>\n",
       "      <td>(DecisionTreeRegressor(ccp_alpha=0.0, criterio...</td>\n",
       "      <td>5</td>\n",
       "    </tr>\n",
       "  </tbody>\n",
       "</table>\n",
       "</div>"
      ],
      "text/plain": [
       "                   model       mse       mae  neg_mean_squared_error  \\\n",
       "0    KNeighborsRegressor  0.531430  0.571275  neg_mean_squared_error   \n",
       "1  RandomForestRegressor  0.349515  0.460214  neg_mean_squared_error   \n",
       "\n",
       "                                       best_params  \\\n",
       "0             {'knn__n_neighbors': 8, 'knn__p': 1}   \n",
       "1  {'rf__max_depth': None, 'rf__n_estimators': 20}   \n",
       "\n",
       "                                       model_details cv  \n",
       "0  KNeighborsRegressor(algorithm='auto', leaf_siz...  5  \n",
       "1  (DecisionTreeRegressor(ccp_alpha=0.0, criterio...  5  "
      ]
     },
     "execution_count": 66,
     "metadata": {},
     "output_type": "execute_result"
    }
   ],
   "source": [
    "df_gridsearch_onesplit"
   ]
  },
  {
   "cell_type": "code",
   "execution_count": 67,
   "metadata": {
    "ExecuteTime": {
     "end_time": "2020-04-28T11:17:29.850016Z",
     "start_time": "2020-04-28T11:17:29.846743Z"
    }
   },
   "outputs": [],
   "source": [
    "df_gridsearch_onesplit.to_csv('df_gridsearch_onesplit.csv', index=False)"
   ]
  },
  {
   "cell_type": "markdown",
   "metadata": {},
   "source": [
    "### Cross validation + nested grid search"
   ]
  },
  {
   "cell_type": "code",
   "execution_count": 72,
   "metadata": {
    "ExecuteTime": {
     "end_time": "2020-04-28T11:52:21.691836Z",
     "start_time": "2020-04-28T11:43:37.703930Z"
    }
   },
   "outputs": [
    {
     "name": "stderr",
     "output_type": "stream",
     "text": [
      "[Parallel(n_jobs=15)]: Using backend LokyBackend with 15 concurrent workers.\n",
      "[Parallel(n_jobs=15)]: Done   2 out of   5 | elapsed:  8.3min remaining: 12.5min\n",
      "[Parallel(n_jobs=15)]: Done   3 out of   5 | elapsed:  8.6min remaining:  5.7min\n",
      "[Parallel(n_jobs=15)]: Done   5 out of   5 | elapsed:  8.7min remaining:    0.0s\n",
      "[Parallel(n_jobs=15)]: Done   5 out of   5 | elapsed:  8.7min finished\n"
     ]
    }
   ],
   "source": [
    "df_crossvalid_hpsearch = run_crossvalid_hpsearch(X, y, pipeline_rf, param_grid_rf, cv1 = k, cv2 = k, df=df_crossvalid_hpsearch)"
   ]
  },
  {
   "cell_type": "code",
   "execution_count": 73,
   "metadata": {
    "ExecuteTime": {
     "end_time": "2020-04-28T11:52:22.569996Z",
     "start_time": "2020-04-28T11:52:22.516183Z"
    }
   },
   "outputs": [
    {
     "data": {
      "text/html": [
       "<div>\n",
       "<style scoped>\n",
       "    .dataframe tbody tr th:only-of-type {\n",
       "        vertical-align: middle;\n",
       "    }\n",
       "\n",
       "    .dataframe tbody tr th {\n",
       "        vertical-align: top;\n",
       "    }\n",
       "\n",
       "    .dataframe thead th {\n",
       "        text-align: right;\n",
       "    }\n",
       "</style>\n",
       "<table border=\"1\" class=\"dataframe\">\n",
       "  <thead>\n",
       "    <tr style=\"text-align: right;\">\n",
       "      <th></th>\n",
       "      <th>model</th>\n",
       "      <th>mean_score</th>\n",
       "      <th>neg_mean_squared_error</th>\n",
       "      <th>model_details</th>\n",
       "      <th>cv1</th>\n",
       "      <th>cv2</th>\n",
       "    </tr>\n",
       "  </thead>\n",
       "  <tbody>\n",
       "    <tr>\n",
       "      <th>0</th>\n",
       "      <td>RandomForestRegressor</td>\n",
       "      <td>0.735115</td>\n",
       "      <td>neg_mean_squared_error</td>\n",
       "      <td>(DecisionTreeRegressor(ccp_alpha=0.0, criterio...</td>\n",
       "      <td>5</td>\n",
       "      <td>5</td>\n",
       "    </tr>\n",
       "  </tbody>\n",
       "</table>\n",
       "</div>"
      ],
      "text/plain": [
       "                   model  mean_score  neg_mean_squared_error  \\\n",
       "0  RandomForestRegressor    0.735115  neg_mean_squared_error   \n",
       "\n",
       "                                       model_details cv1 cv2  \n",
       "0  (DecisionTreeRegressor(ccp_alpha=0.0, criterio...   5   5  "
      ]
     },
     "execution_count": 73,
     "metadata": {},
     "output_type": "execute_result"
    }
   ],
   "source": [
    "df_crossvalid_hpsearch"
   ]
  },
  {
   "cell_type": "code",
   "execution_count": 74,
   "metadata": {
    "ExecuteTime": {
     "end_time": "2020-04-28T11:52:23.356708Z",
     "start_time": "2020-04-28T11:52:23.353301Z"
    }
   },
   "outputs": [],
   "source": [
    "df_crossvalid_hpsearch.to_csv('df_crossvalid_hpsearch.csv', index=False)"
   ]
  },
  {
   "cell_type": "markdown",
   "metadata": {},
   "source": [
    "# Results"
   ]
  },
  {
   "cell_type": "code",
   "execution_count": 85,
   "metadata": {
    "ExecuteTime": {
     "end_time": "2020-04-28T15:41:36.812890Z",
     "start_time": "2020-04-28T15:41:36.752438Z"
    }
   },
   "outputs": [
    {
     "data": {
      "text/html": [
       "<div>\n",
       "<style scoped>\n",
       "    .dataframe tbody tr th:only-of-type {\n",
       "        vertical-align: middle;\n",
       "    }\n",
       "\n",
       "    .dataframe tbody tr th {\n",
       "        vertical-align: top;\n",
       "    }\n",
       "\n",
       "    .dataframe thead th {\n",
       "        text-align: right;\n",
       "    }\n",
       "</style>\n",
       "<table border=\"1\" class=\"dataframe\">\n",
       "  <thead>\n",
       "    <tr style=\"text-align: right;\">\n",
       "      <th></th>\n",
       "      <th>model</th>\n",
       "      <th>mse</th>\n",
       "      <th>mae</th>\n",
       "      <th>model_details</th>\n",
       "    </tr>\n",
       "  </thead>\n",
       "  <tbody>\n",
       "    <tr>\n",
       "      <th>0</th>\n",
       "      <td>MLPRegressor</td>\n",
       "      <td>0.560168</td>\n",
       "      <td>0.575657</td>\n",
       "      <td>MLPRegressor(activation='relu', alpha=0.0001, ...</td>\n",
       "    </tr>\n",
       "    <tr>\n",
       "      <th>1</th>\n",
       "      <td>KNeighborsRegressor</td>\n",
       "      <td>0.683094</td>\n",
       "      <td>0.643157</td>\n",
       "      <td>KNeighborsRegressor(algorithm='auto', leaf_siz...</td>\n",
       "    </tr>\n",
       "    <tr>\n",
       "      <th>2</th>\n",
       "      <td>RandomForestRegressor</td>\n",
       "      <td>0.338870</td>\n",
       "      <td>0.453411</td>\n",
       "      <td>(DecisionTreeRegressor(ccp_alpha=0.0, criterio...</td>\n",
       "    </tr>\n",
       "  </tbody>\n",
       "</table>\n",
       "</div>"
      ],
      "text/plain": [
       "                   model       mse       mae  \\\n",
       "0           MLPRegressor  0.560168  0.575657   \n",
       "1    KNeighborsRegressor  0.683094  0.643157   \n",
       "2  RandomForestRegressor  0.338870  0.453411   \n",
       "\n",
       "                                       model_details  \n",
       "0  MLPRegressor(activation='relu', alpha=0.0001, ...  \n",
       "1  KNeighborsRegressor(algorithm='auto', leaf_siz...  \n",
       "2  (DecisionTreeRegressor(ccp_alpha=0.0, criterio...  "
      ]
     },
     "execution_count": 85,
     "metadata": {},
     "output_type": "execute_result"
    }
   ],
   "source": [
    "df_onerun"
   ]
  },
  {
   "cell_type": "code",
   "execution_count": 86,
   "metadata": {
    "ExecuteTime": {
     "end_time": "2020-04-28T15:41:55.888815Z",
     "start_time": "2020-04-28T15:41:55.839934Z"
    }
   },
   "outputs": [
    {
     "data": {
      "text/html": [
       "<div>\n",
       "<style scoped>\n",
       "    .dataframe tbody tr th:only-of-type {\n",
       "        vertical-align: middle;\n",
       "    }\n",
       "\n",
       "    .dataframe tbody tr th {\n",
       "        vertical-align: top;\n",
       "    }\n",
       "\n",
       "    .dataframe thead th {\n",
       "        text-align: right;\n",
       "    }\n",
       "</style>\n",
       "<table border=\"1\" class=\"dataframe\">\n",
       "  <thead>\n",
       "    <tr style=\"text-align: right;\">\n",
       "      <th></th>\n",
       "      <th>model</th>\n",
       "      <th>neg_mean_squared_error</th>\n",
       "      <th>model_details</th>\n",
       "      <th>cv</th>\n",
       "    </tr>\n",
       "  </thead>\n",
       "  <tbody>\n",
       "    <tr>\n",
       "      <th>0</th>\n",
       "      <td>MLPRegressor</td>\n",
       "      <td>2.877248</td>\n",
       "      <td>MLPRegressor(activation='relu', alpha=0.0001, ...</td>\n",
       "      <td>5</td>\n",
       "    </tr>\n",
       "    <tr>\n",
       "      <th>1</th>\n",
       "      <td>KNeighborsRegressor</td>\n",
       "      <td>0.904677</td>\n",
       "      <td>KNeighborsRegressor(algorithm='auto', leaf_siz...</td>\n",
       "      <td>5</td>\n",
       "    </tr>\n",
       "    <tr>\n",
       "      <th>2</th>\n",
       "      <td>RandomForestRegressor</td>\n",
       "      <td>0.976244</td>\n",
       "      <td>(DecisionTreeRegressor(ccp_alpha=0.0, criterio...</td>\n",
       "      <td>5</td>\n",
       "    </tr>\n",
       "  </tbody>\n",
       "</table>\n",
       "</div>"
      ],
      "text/plain": [
       "                   model  neg_mean_squared_error  \\\n",
       "0           MLPRegressor                2.877248   \n",
       "1    KNeighborsRegressor                0.904677   \n",
       "2  RandomForestRegressor                0.976244   \n",
       "\n",
       "                                       model_details cv  \n",
       "0  MLPRegressor(activation='relu', alpha=0.0001, ...  5  \n",
       "1  KNeighborsRegressor(algorithm='auto', leaf_siz...  5  \n",
       "2  (DecisionTreeRegressor(ccp_alpha=0.0, criterio...  5  "
      ]
     },
     "execution_count": 86,
     "metadata": {},
     "output_type": "execute_result"
    }
   ],
   "source": [
    "df_CV_simple"
   ]
  },
  {
   "cell_type": "code",
   "execution_count": 87,
   "metadata": {
    "ExecuteTime": {
     "end_time": "2020-04-28T15:42:20.428640Z",
     "start_time": "2020-04-28T15:42:20.384388Z"
    }
   },
   "outputs": [
    {
     "data": {
      "text/html": [
       "<div>\n",
       "<style scoped>\n",
       "    .dataframe tbody tr th:only-of-type {\n",
       "        vertical-align: middle;\n",
       "    }\n",
       "\n",
       "    .dataframe tbody tr th {\n",
       "        vertical-align: top;\n",
       "    }\n",
       "\n",
       "    .dataframe thead th {\n",
       "        text-align: right;\n",
       "    }\n",
       "</style>\n",
       "<table border=\"1\" class=\"dataframe\">\n",
       "  <thead>\n",
       "    <tr style=\"text-align: right;\">\n",
       "      <th></th>\n",
       "      <th>model</th>\n",
       "      <th>mse</th>\n",
       "      <th>mae</th>\n",
       "      <th>neg_mean_squared_error</th>\n",
       "      <th>best_params</th>\n",
       "      <th>model_details</th>\n",
       "      <th>cv</th>\n",
       "    </tr>\n",
       "  </thead>\n",
       "  <tbody>\n",
       "    <tr>\n",
       "      <th>0</th>\n",
       "      <td>KNeighborsRegressor</td>\n",
       "      <td>0.531430</td>\n",
       "      <td>0.571275</td>\n",
       "      <td>neg_mean_squared_error</td>\n",
       "      <td>{'knn__n_neighbors': 8, 'knn__p': 1}</td>\n",
       "      <td>KNeighborsRegressor(algorithm='auto', leaf_siz...</td>\n",
       "      <td>5</td>\n",
       "    </tr>\n",
       "    <tr>\n",
       "      <th>1</th>\n",
       "      <td>RandomForestRegressor</td>\n",
       "      <td>0.349515</td>\n",
       "      <td>0.460214</td>\n",
       "      <td>neg_mean_squared_error</td>\n",
       "      <td>{'rf__max_depth': None, 'rf__n_estimators': 20}</td>\n",
       "      <td>(DecisionTreeRegressor(ccp_alpha=0.0, criterio...</td>\n",
       "      <td>5</td>\n",
       "    </tr>\n",
       "    <tr>\n",
       "      <th>2</th>\n",
       "      <td>MLPRegressor</td>\n",
       "      <td>0.456235</td>\n",
       "      <td>0.528674</td>\n",
       "      <td>neg_mean_squared_error</td>\n",
       "      <td>{'mlp__hidden_layer_sizes': 100}</td>\n",
       "      <td>MLPRegressor(activation='relu', alpha=0.0001, ...</td>\n",
       "      <td>5</td>\n",
       "    </tr>\n",
       "  </tbody>\n",
       "</table>\n",
       "</div>"
      ],
      "text/plain": [
       "                   model       mse       mae  neg_mean_squared_error  \\\n",
       "0    KNeighborsRegressor  0.531430  0.571275  neg_mean_squared_error   \n",
       "1  RandomForestRegressor  0.349515  0.460214  neg_mean_squared_error   \n",
       "2           MLPRegressor  0.456235  0.528674  neg_mean_squared_error   \n",
       "\n",
       "                                       best_params  \\\n",
       "0             {'knn__n_neighbors': 8, 'knn__p': 1}   \n",
       "1  {'rf__max_depth': None, 'rf__n_estimators': 20}   \n",
       "2                 {'mlp__hidden_layer_sizes': 100}   \n",
       "\n",
       "                                       model_details cv  \n",
       "0  KNeighborsRegressor(algorithm='auto', leaf_siz...  5  \n",
       "1  (DecisionTreeRegressor(ccp_alpha=0.0, criterio...  5  \n",
       "2  MLPRegressor(activation='relu', alpha=0.0001, ...  5  "
      ]
     },
     "execution_count": 87,
     "metadata": {},
     "output_type": "execute_result"
    }
   ],
   "source": [
    "df_gridsearch_onesplit"
   ]
  },
  {
   "cell_type": "code",
   "execution_count": 88,
   "metadata": {
    "ExecuteTime": {
     "end_time": "2020-04-28T15:42:43.108337Z",
     "start_time": "2020-04-28T15:42:43.040263Z"
    }
   },
   "outputs": [
    {
     "data": {
      "text/html": [
       "<div>\n",
       "<style scoped>\n",
       "    .dataframe tbody tr th:only-of-type {\n",
       "        vertical-align: middle;\n",
       "    }\n",
       "\n",
       "    .dataframe tbody tr th {\n",
       "        vertical-align: top;\n",
       "    }\n",
       "\n",
       "    .dataframe thead th {\n",
       "        text-align: right;\n",
       "    }\n",
       "</style>\n",
       "<table border=\"1\" class=\"dataframe\">\n",
       "  <thead>\n",
       "    <tr style=\"text-align: right;\">\n",
       "      <th></th>\n",
       "      <th>model</th>\n",
       "      <th>mean_score</th>\n",
       "      <th>neg_mean_squared_error</th>\n",
       "      <th>model_details</th>\n",
       "      <th>cv1</th>\n",
       "      <th>cv2</th>\n",
       "    </tr>\n",
       "  </thead>\n",
       "  <tbody>\n",
       "    <tr>\n",
       "      <th>0</th>\n",
       "      <td>RandomForestRegressor</td>\n",
       "      <td>0.735115</td>\n",
       "      <td>neg_mean_squared_error</td>\n",
       "      <td>(DecisionTreeRegressor(ccp_alpha=0.0, criterio...</td>\n",
       "      <td>5</td>\n",
       "      <td>5</td>\n",
       "    </tr>\n",
       "    <tr>\n",
       "      <th>1</th>\n",
       "      <td>KNeighborsRegressor</td>\n",
       "      <td>0.765393</td>\n",
       "      <td>neg_mean_squared_error</td>\n",
       "      <td>KNeighborsRegressor(algorithm='auto', leaf_siz...</td>\n",
       "      <td>5</td>\n",
       "      <td>5</td>\n",
       "    </tr>\n",
       "    <tr>\n",
       "      <th>2</th>\n",
       "      <td>MLPRegressor</td>\n",
       "      <td>0.671098</td>\n",
       "      <td>neg_mean_squared_error</td>\n",
       "      <td>MLPRegressor(activation='relu', alpha=0.0001, ...</td>\n",
       "      <td>5</td>\n",
       "      <td>5</td>\n",
       "    </tr>\n",
       "  </tbody>\n",
       "</table>\n",
       "</div>"
      ],
      "text/plain": [
       "                   model  mean_score  neg_mean_squared_error  \\\n",
       "0  RandomForestRegressor    0.735115  neg_mean_squared_error   \n",
       "1    KNeighborsRegressor    0.765393  neg_mean_squared_error   \n",
       "2           MLPRegressor    0.671098  neg_mean_squared_error   \n",
       "\n",
       "                                       model_details cv1 cv2  \n",
       "0  (DecisionTreeRegressor(ccp_alpha=0.0, criterio...   5   5  \n",
       "1  KNeighborsRegressor(algorithm='auto', leaf_siz...   5   5  \n",
       "2  MLPRegressor(activation='relu', alpha=0.0001, ...   5   5  "
      ]
     },
     "execution_count": 88,
     "metadata": {},
     "output_type": "execute_result"
    }
   ],
   "source": [
    "df_crossvalid_hpsearch"
   ]
  },
  {
   "cell_type": "code",
   "execution_count": null,
   "metadata": {},
   "outputs": [],
   "source": []
  }
 ],
 "metadata": {
  "kernelspec": {
   "display_name": "Python 3",
   "language": "python",
   "name": "python3"
  },
  "language_info": {
   "codemirror_mode": {
    "name": "ipython",
    "version": 3
   },
   "file_extension": ".py",
   "mimetype": "text/x-python",
   "name": "python",
   "nbconvert_exporter": "python",
   "pygments_lexer": "ipython3",
   "version": "3.8.2"
  },
  "notify_time": "5",
  "toc": {
   "base_numbering": 1,
   "nav_menu": {},
   "number_sections": true,
   "sideBar": true,
   "skip_h1_title": false,
   "title_cell": "Table of Contents",
   "title_sidebar": "Contents",
   "toc_cell": false,
   "toc_position": {
    "height": "calc(100% - 180px)",
    "left": "10px",
    "top": "150px",
    "width": "336.889px"
   },
   "toc_section_display": true,
   "toc_window_display": true
  },
  "varInspector": {
   "cols": {
    "lenName": 16,
    "lenType": 16,
    "lenVar": 40
   },
   "kernels_config": {
    "python": {
     "delete_cmd_postfix": "",
     "delete_cmd_prefix": "del ",
     "library": "var_list.py",
     "varRefreshCmd": "print(var_dic_list())"
    },
    "r": {
     "delete_cmd_postfix": ") ",
     "delete_cmd_prefix": "rm(",
     "library": "var_list.r",
     "varRefreshCmd": "cat(var_dic_list()) "
    }
   },
   "position": {
    "height": "437.667px",
    "left": "849px",
    "right": "20px",
    "top": "120px",
    "width": "331.667px"
   },
   "types_to_exclude": [
    "module",
    "function",
    "builtin_function_or_method",
    "instance",
    "_Feature"
   ],
   "window_display": false
  }
 },
 "nbformat": 4,
 "nbformat_minor": 4
}
